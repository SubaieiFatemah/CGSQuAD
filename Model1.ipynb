{
  "nbformat": 4,
  "nbformat_minor": 0,
  "metadata": {
    "colab": {
      "provenance": [],
      "collapsed_sections": [
        "XfoSwdpsIcuM",
        "5EHDXGMxGHpS",
        "ANtllpIzN8mR",
        "4DmAe3H-4jmV",
        "oxq4RE6g8uLE",
        "wMIWoiFh_hbR",
        "BlhkXeWC_we2"
      ]
    },
    "kernelspec": {
      "name": "python3",
      "display_name": "Python 3"
    },
    "language_info": {
      "name": "python"
    },
    "accelerator": "GPU",
    "gpuClass": "standard",
    "widgets": {
      "application/vnd.jupyter.widget-state+json": {
        "a75dea4571ef49b88e2a536e9878246f": {
          "model_module": "@jupyter-widgets/controls",
          "model_name": "HBoxModel",
          "model_module_version": "1.5.0",
          "state": {
            "_dom_classes": [],
            "_model_module": "@jupyter-widgets/controls",
            "_model_module_version": "1.5.0",
            "_model_name": "HBoxModel",
            "_view_count": null,
            "_view_module": "@jupyter-widgets/controls",
            "_view_module_version": "1.5.0",
            "_view_name": "HBoxView",
            "box_style": "",
            "children": [
              "IPY_MODEL_b613cc86c34b488f8553d55593d94dcc",
              "IPY_MODEL_31c14475b03344538c483f9f98ac15a8",
              "IPY_MODEL_1136f928b5fc448a8d7efc93b3a524fb"
            ],
            "layout": "IPY_MODEL_703b9b64bcb44a6cbcda7ce055d74825"
          }
        },
        "b613cc86c34b488f8553d55593d94dcc": {
          "model_module": "@jupyter-widgets/controls",
          "model_name": "HTMLModel",
          "model_module_version": "1.5.0",
          "state": {
            "_dom_classes": [],
            "_model_module": "@jupyter-widgets/controls",
            "_model_module_version": "1.5.0",
            "_model_name": "HTMLModel",
            "_view_count": null,
            "_view_module": "@jupyter-widgets/controls",
            "_view_module_version": "1.5.0",
            "_view_name": "HTMLView",
            "description": "",
            "description_tooltip": null,
            "layout": "IPY_MODEL_76ef4fb556c0414aab808f5a0d6a3e8f",
            "placeholder": "​",
            "style": "IPY_MODEL_73e1e4978a414a6e9d1dae7f87b24d6a",
            "value": "Downloading (…)okenizer_config.json: 100%"
          }
        },
        "31c14475b03344538c483f9f98ac15a8": {
          "model_module": "@jupyter-widgets/controls",
          "model_name": "FloatProgressModel",
          "model_module_version": "1.5.0",
          "state": {
            "_dom_classes": [],
            "_model_module": "@jupyter-widgets/controls",
            "_model_module_version": "1.5.0",
            "_model_name": "FloatProgressModel",
            "_view_count": null,
            "_view_module": "@jupyter-widgets/controls",
            "_view_module_version": "1.5.0",
            "_view_name": "ProgressView",
            "bar_style": "success",
            "description": "",
            "description_tooltip": null,
            "layout": "IPY_MODEL_1fe70d625ceb4626a44ec6331efc8d61",
            "max": 392,
            "min": 0,
            "orientation": "horizontal",
            "style": "IPY_MODEL_ed3f2229fb084e02b8ac0bedb90fa2e8",
            "value": 392
          }
        },
        "1136f928b5fc448a8d7efc93b3a524fb": {
          "model_module": "@jupyter-widgets/controls",
          "model_name": "HTMLModel",
          "model_module_version": "1.5.0",
          "state": {
            "_dom_classes": [],
            "_model_module": "@jupyter-widgets/controls",
            "_model_module_version": "1.5.0",
            "_model_name": "HTMLModel",
            "_view_count": null,
            "_view_module": "@jupyter-widgets/controls",
            "_view_module_version": "1.5.0",
            "_view_name": "HTMLView",
            "description": "",
            "description_tooltip": null,
            "layout": "IPY_MODEL_159ec1c72e1c496a82fa9d7b9a50f725",
            "placeholder": "​",
            "style": "IPY_MODEL_bdbb9819753c452996b4e1996dfe5571",
            "value": " 392/392 [00:00&lt;00:00, 12.5kB/s]"
          }
        },
        "703b9b64bcb44a6cbcda7ce055d74825": {
          "model_module": "@jupyter-widgets/base",
          "model_name": "LayoutModel",
          "model_module_version": "1.2.0",
          "state": {
            "_model_module": "@jupyter-widgets/base",
            "_model_module_version": "1.2.0",
            "_model_name": "LayoutModel",
            "_view_count": null,
            "_view_module": "@jupyter-widgets/base",
            "_view_module_version": "1.2.0",
            "_view_name": "LayoutView",
            "align_content": null,
            "align_items": null,
            "align_self": null,
            "border": null,
            "bottom": null,
            "display": null,
            "flex": null,
            "flex_flow": null,
            "grid_area": null,
            "grid_auto_columns": null,
            "grid_auto_flow": null,
            "grid_auto_rows": null,
            "grid_column": null,
            "grid_gap": null,
            "grid_row": null,
            "grid_template_areas": null,
            "grid_template_columns": null,
            "grid_template_rows": null,
            "height": null,
            "justify_content": null,
            "justify_items": null,
            "left": null,
            "margin": null,
            "max_height": null,
            "max_width": null,
            "min_height": null,
            "min_width": null,
            "object_fit": null,
            "object_position": null,
            "order": null,
            "overflow": null,
            "overflow_x": null,
            "overflow_y": null,
            "padding": null,
            "right": null,
            "top": null,
            "visibility": null,
            "width": null
          }
        },
        "76ef4fb556c0414aab808f5a0d6a3e8f": {
          "model_module": "@jupyter-widgets/base",
          "model_name": "LayoutModel",
          "model_module_version": "1.2.0",
          "state": {
            "_model_module": "@jupyter-widgets/base",
            "_model_module_version": "1.2.0",
            "_model_name": "LayoutModel",
            "_view_count": null,
            "_view_module": "@jupyter-widgets/base",
            "_view_module_version": "1.2.0",
            "_view_name": "LayoutView",
            "align_content": null,
            "align_items": null,
            "align_self": null,
            "border": null,
            "bottom": null,
            "display": null,
            "flex": null,
            "flex_flow": null,
            "grid_area": null,
            "grid_auto_columns": null,
            "grid_auto_flow": null,
            "grid_auto_rows": null,
            "grid_column": null,
            "grid_gap": null,
            "grid_row": null,
            "grid_template_areas": null,
            "grid_template_columns": null,
            "grid_template_rows": null,
            "height": null,
            "justify_content": null,
            "justify_items": null,
            "left": null,
            "margin": null,
            "max_height": null,
            "max_width": null,
            "min_height": null,
            "min_width": null,
            "object_fit": null,
            "object_position": null,
            "order": null,
            "overflow": null,
            "overflow_x": null,
            "overflow_y": null,
            "padding": null,
            "right": null,
            "top": null,
            "visibility": null,
            "width": null
          }
        },
        "73e1e4978a414a6e9d1dae7f87b24d6a": {
          "model_module": "@jupyter-widgets/controls",
          "model_name": "DescriptionStyleModel",
          "model_module_version": "1.5.0",
          "state": {
            "_model_module": "@jupyter-widgets/controls",
            "_model_module_version": "1.5.0",
            "_model_name": "DescriptionStyleModel",
            "_view_count": null,
            "_view_module": "@jupyter-widgets/base",
            "_view_module_version": "1.2.0",
            "_view_name": "StyleView",
            "description_width": ""
          }
        },
        "1fe70d625ceb4626a44ec6331efc8d61": {
          "model_module": "@jupyter-widgets/base",
          "model_name": "LayoutModel",
          "model_module_version": "1.2.0",
          "state": {
            "_model_module": "@jupyter-widgets/base",
            "_model_module_version": "1.2.0",
            "_model_name": "LayoutModel",
            "_view_count": null,
            "_view_module": "@jupyter-widgets/base",
            "_view_module_version": "1.2.0",
            "_view_name": "LayoutView",
            "align_content": null,
            "align_items": null,
            "align_self": null,
            "border": null,
            "bottom": null,
            "display": null,
            "flex": null,
            "flex_flow": null,
            "grid_area": null,
            "grid_auto_columns": null,
            "grid_auto_flow": null,
            "grid_auto_rows": null,
            "grid_column": null,
            "grid_gap": null,
            "grid_row": null,
            "grid_template_areas": null,
            "grid_template_columns": null,
            "grid_template_rows": null,
            "height": null,
            "justify_content": null,
            "justify_items": null,
            "left": null,
            "margin": null,
            "max_height": null,
            "max_width": null,
            "min_height": null,
            "min_width": null,
            "object_fit": null,
            "object_position": null,
            "order": null,
            "overflow": null,
            "overflow_x": null,
            "overflow_y": null,
            "padding": null,
            "right": null,
            "top": null,
            "visibility": null,
            "width": null
          }
        },
        "ed3f2229fb084e02b8ac0bedb90fa2e8": {
          "model_module": "@jupyter-widgets/controls",
          "model_name": "ProgressStyleModel",
          "model_module_version": "1.5.0",
          "state": {
            "_model_module": "@jupyter-widgets/controls",
            "_model_module_version": "1.5.0",
            "_model_name": "ProgressStyleModel",
            "_view_count": null,
            "_view_module": "@jupyter-widgets/base",
            "_view_module_version": "1.2.0",
            "_view_name": "StyleView",
            "bar_color": null,
            "description_width": ""
          }
        },
        "159ec1c72e1c496a82fa9d7b9a50f725": {
          "model_module": "@jupyter-widgets/base",
          "model_name": "LayoutModel",
          "model_module_version": "1.2.0",
          "state": {
            "_model_module": "@jupyter-widgets/base",
            "_model_module_version": "1.2.0",
            "_model_name": "LayoutModel",
            "_view_count": null,
            "_view_module": "@jupyter-widgets/base",
            "_view_module_version": "1.2.0",
            "_view_name": "LayoutView",
            "align_content": null,
            "align_items": null,
            "align_self": null,
            "border": null,
            "bottom": null,
            "display": null,
            "flex": null,
            "flex_flow": null,
            "grid_area": null,
            "grid_auto_columns": null,
            "grid_auto_flow": null,
            "grid_auto_rows": null,
            "grid_column": null,
            "grid_gap": null,
            "grid_row": null,
            "grid_template_areas": null,
            "grid_template_columns": null,
            "grid_template_rows": null,
            "height": null,
            "justify_content": null,
            "justify_items": null,
            "left": null,
            "margin": null,
            "max_height": null,
            "max_width": null,
            "min_height": null,
            "min_width": null,
            "object_fit": null,
            "object_position": null,
            "order": null,
            "overflow": null,
            "overflow_x": null,
            "overflow_y": null,
            "padding": null,
            "right": null,
            "top": null,
            "visibility": null,
            "width": null
          }
        },
        "bdbb9819753c452996b4e1996dfe5571": {
          "model_module": "@jupyter-widgets/controls",
          "model_name": "DescriptionStyleModel",
          "model_module_version": "1.5.0",
          "state": {
            "_model_module": "@jupyter-widgets/controls",
            "_model_module_version": "1.5.0",
            "_model_name": "DescriptionStyleModel",
            "_view_count": null,
            "_view_module": "@jupyter-widgets/base",
            "_view_module_version": "1.2.0",
            "_view_name": "StyleView",
            "description_width": ""
          }
        },
        "0ec1b9fb637f41bc94b68d51c62acca7": {
          "model_module": "@jupyter-widgets/controls",
          "model_name": "HBoxModel",
          "model_module_version": "1.5.0",
          "state": {
            "_dom_classes": [],
            "_model_module": "@jupyter-widgets/controls",
            "_model_module_version": "1.5.0",
            "_model_name": "HBoxModel",
            "_view_count": null,
            "_view_module": "@jupyter-widgets/controls",
            "_view_module_version": "1.5.0",
            "_view_name": "HBoxView",
            "box_style": "",
            "children": [
              "IPY_MODEL_9cd27f124eb54265bdcd123046b2d14f",
              "IPY_MODEL_8c24ddae6d4d4051bd4cc57f8140ed8e",
              "IPY_MODEL_85b220bfc399483c968acc0734f9d87c"
            ],
            "layout": "IPY_MODEL_cd532a1f2fbe4350ad2b84cf2b060e2b"
          }
        },
        "9cd27f124eb54265bdcd123046b2d14f": {
          "model_module": "@jupyter-widgets/controls",
          "model_name": "HTMLModel",
          "model_module_version": "1.5.0",
          "state": {
            "_dom_classes": [],
            "_model_module": "@jupyter-widgets/controls",
            "_model_module_version": "1.5.0",
            "_model_name": "HTMLModel",
            "_view_count": null,
            "_view_module": "@jupyter-widgets/controls",
            "_view_module_version": "1.5.0",
            "_view_name": "HTMLView",
            "description": "",
            "description_tooltip": null,
            "layout": "IPY_MODEL_7cc580f605c64dde8adb9e70f64dde93",
            "placeholder": "​",
            "style": "IPY_MODEL_652e7f57fd5a418bb3ed66fe766c021c",
            "value": "Downloading (…)lve/main/config.json: 100%"
          }
        },
        "8c24ddae6d4d4051bd4cc57f8140ed8e": {
          "model_module": "@jupyter-widgets/controls",
          "model_name": "FloatProgressModel",
          "model_module_version": "1.5.0",
          "state": {
            "_dom_classes": [],
            "_model_module": "@jupyter-widgets/controls",
            "_model_module_version": "1.5.0",
            "_model_name": "FloatProgressModel",
            "_view_count": null,
            "_view_module": "@jupyter-widgets/controls",
            "_view_module_version": "1.5.0",
            "_view_name": "ProgressView",
            "bar_style": "success",
            "description": "",
            "description_tooltip": null,
            "layout": "IPY_MODEL_c73409abb71d4ce39f78412660aa0f15",
            "max": 503,
            "min": 0,
            "orientation": "horizontal",
            "style": "IPY_MODEL_0df02341c21546ed8cc9fd35f671906a",
            "value": 503
          }
        },
        "85b220bfc399483c968acc0734f9d87c": {
          "model_module": "@jupyter-widgets/controls",
          "model_name": "HTMLModel",
          "model_module_version": "1.5.0",
          "state": {
            "_dom_classes": [],
            "_model_module": "@jupyter-widgets/controls",
            "_model_module_version": "1.5.0",
            "_model_name": "HTMLModel",
            "_view_count": null,
            "_view_module": "@jupyter-widgets/controls",
            "_view_module_version": "1.5.0",
            "_view_name": "HTMLView",
            "description": "",
            "description_tooltip": null,
            "layout": "IPY_MODEL_9aa01d923f3a440a9bc763dfc108b733",
            "placeholder": "​",
            "style": "IPY_MODEL_87c5da4aa22b47bc9817cb2dc64fa979",
            "value": " 503/503 [00:00&lt;00:00, 9.33kB/s]"
          }
        },
        "cd532a1f2fbe4350ad2b84cf2b060e2b": {
          "model_module": "@jupyter-widgets/base",
          "model_name": "LayoutModel",
          "model_module_version": "1.2.0",
          "state": {
            "_model_module": "@jupyter-widgets/base",
            "_model_module_version": "1.2.0",
            "_model_name": "LayoutModel",
            "_view_count": null,
            "_view_module": "@jupyter-widgets/base",
            "_view_module_version": "1.2.0",
            "_view_name": "LayoutView",
            "align_content": null,
            "align_items": null,
            "align_self": null,
            "border": null,
            "bottom": null,
            "display": null,
            "flex": null,
            "flex_flow": null,
            "grid_area": null,
            "grid_auto_columns": null,
            "grid_auto_flow": null,
            "grid_auto_rows": null,
            "grid_column": null,
            "grid_gap": null,
            "grid_row": null,
            "grid_template_areas": null,
            "grid_template_columns": null,
            "grid_template_rows": null,
            "height": null,
            "justify_content": null,
            "justify_items": null,
            "left": null,
            "margin": null,
            "max_height": null,
            "max_width": null,
            "min_height": null,
            "min_width": null,
            "object_fit": null,
            "object_position": null,
            "order": null,
            "overflow": null,
            "overflow_x": null,
            "overflow_y": null,
            "padding": null,
            "right": null,
            "top": null,
            "visibility": null,
            "width": null
          }
        },
        "7cc580f605c64dde8adb9e70f64dde93": {
          "model_module": "@jupyter-widgets/base",
          "model_name": "LayoutModel",
          "model_module_version": "1.2.0",
          "state": {
            "_model_module": "@jupyter-widgets/base",
            "_model_module_version": "1.2.0",
            "_model_name": "LayoutModel",
            "_view_count": null,
            "_view_module": "@jupyter-widgets/base",
            "_view_module_version": "1.2.0",
            "_view_name": "LayoutView",
            "align_content": null,
            "align_items": null,
            "align_self": null,
            "border": null,
            "bottom": null,
            "display": null,
            "flex": null,
            "flex_flow": null,
            "grid_area": null,
            "grid_auto_columns": null,
            "grid_auto_flow": null,
            "grid_auto_rows": null,
            "grid_column": null,
            "grid_gap": null,
            "grid_row": null,
            "grid_template_areas": null,
            "grid_template_columns": null,
            "grid_template_rows": null,
            "height": null,
            "justify_content": null,
            "justify_items": null,
            "left": null,
            "margin": null,
            "max_height": null,
            "max_width": null,
            "min_height": null,
            "min_width": null,
            "object_fit": null,
            "object_position": null,
            "order": null,
            "overflow": null,
            "overflow_x": null,
            "overflow_y": null,
            "padding": null,
            "right": null,
            "top": null,
            "visibility": null,
            "width": null
          }
        },
        "652e7f57fd5a418bb3ed66fe766c021c": {
          "model_module": "@jupyter-widgets/controls",
          "model_name": "DescriptionStyleModel",
          "model_module_version": "1.5.0",
          "state": {
            "_model_module": "@jupyter-widgets/controls",
            "_model_module_version": "1.5.0",
            "_model_name": "DescriptionStyleModel",
            "_view_count": null,
            "_view_module": "@jupyter-widgets/base",
            "_view_module_version": "1.2.0",
            "_view_name": "StyleView",
            "description_width": ""
          }
        },
        "c73409abb71d4ce39f78412660aa0f15": {
          "model_module": "@jupyter-widgets/base",
          "model_name": "LayoutModel",
          "model_module_version": "1.2.0",
          "state": {
            "_model_module": "@jupyter-widgets/base",
            "_model_module_version": "1.2.0",
            "_model_name": "LayoutModel",
            "_view_count": null,
            "_view_module": "@jupyter-widgets/base",
            "_view_module_version": "1.2.0",
            "_view_name": "LayoutView",
            "align_content": null,
            "align_items": null,
            "align_self": null,
            "border": null,
            "bottom": null,
            "display": null,
            "flex": null,
            "flex_flow": null,
            "grid_area": null,
            "grid_auto_columns": null,
            "grid_auto_flow": null,
            "grid_auto_rows": null,
            "grid_column": null,
            "grid_gap": null,
            "grid_row": null,
            "grid_template_areas": null,
            "grid_template_columns": null,
            "grid_template_rows": null,
            "height": null,
            "justify_content": null,
            "justify_items": null,
            "left": null,
            "margin": null,
            "max_height": null,
            "max_width": null,
            "min_height": null,
            "min_width": null,
            "object_fit": null,
            "object_position": null,
            "order": null,
            "overflow": null,
            "overflow_x": null,
            "overflow_y": null,
            "padding": null,
            "right": null,
            "top": null,
            "visibility": null,
            "width": null
          }
        },
        "0df02341c21546ed8cc9fd35f671906a": {
          "model_module": "@jupyter-widgets/controls",
          "model_name": "ProgressStyleModel",
          "model_module_version": "1.5.0",
          "state": {
            "_model_module": "@jupyter-widgets/controls",
            "_model_module_version": "1.5.0",
            "_model_name": "ProgressStyleModel",
            "_view_count": null,
            "_view_module": "@jupyter-widgets/base",
            "_view_module_version": "1.2.0",
            "_view_name": "StyleView",
            "bar_color": null,
            "description_width": ""
          }
        },
        "9aa01d923f3a440a9bc763dfc108b733": {
          "model_module": "@jupyter-widgets/base",
          "model_name": "LayoutModel",
          "model_module_version": "1.2.0",
          "state": {
            "_model_module": "@jupyter-widgets/base",
            "_model_module_version": "1.2.0",
            "_model_name": "LayoutModel",
            "_view_count": null,
            "_view_module": "@jupyter-widgets/base",
            "_view_module_version": "1.2.0",
            "_view_name": "LayoutView",
            "align_content": null,
            "align_items": null,
            "align_self": null,
            "border": null,
            "bottom": null,
            "display": null,
            "flex": null,
            "flex_flow": null,
            "grid_area": null,
            "grid_auto_columns": null,
            "grid_auto_flow": null,
            "grid_auto_rows": null,
            "grid_column": null,
            "grid_gap": null,
            "grid_row": null,
            "grid_template_areas": null,
            "grid_template_columns": null,
            "grid_template_rows": null,
            "height": null,
            "justify_content": null,
            "justify_items": null,
            "left": null,
            "margin": null,
            "max_height": null,
            "max_width": null,
            "min_height": null,
            "min_width": null,
            "object_fit": null,
            "object_position": null,
            "order": null,
            "overflow": null,
            "overflow_x": null,
            "overflow_y": null,
            "padding": null,
            "right": null,
            "top": null,
            "visibility": null,
            "width": null
          }
        },
        "87c5da4aa22b47bc9817cb2dc64fa979": {
          "model_module": "@jupyter-widgets/controls",
          "model_name": "DescriptionStyleModel",
          "model_module_version": "1.5.0",
          "state": {
            "_model_module": "@jupyter-widgets/controls",
            "_model_module_version": "1.5.0",
            "_model_name": "DescriptionStyleModel",
            "_view_count": null,
            "_view_module": "@jupyter-widgets/base",
            "_view_module_version": "1.2.0",
            "_view_name": "StyleView",
            "description_width": ""
          }
        },
        "900ef2ead26f4c53bd65b1b33d872d3b": {
          "model_module": "@jupyter-widgets/controls",
          "model_name": "HBoxModel",
          "model_module_version": "1.5.0",
          "state": {
            "_dom_classes": [],
            "_model_module": "@jupyter-widgets/controls",
            "_model_module_version": "1.5.0",
            "_model_name": "HBoxModel",
            "_view_count": null,
            "_view_module": "@jupyter-widgets/controls",
            "_view_module_version": "1.5.0",
            "_view_name": "HBoxView",
            "box_style": "",
            "children": [
              "IPY_MODEL_e6e8f1282b794da8b7e6a00e70207e4c",
              "IPY_MODEL_70e2c38e14174cacac481294fc2b6e69",
              "IPY_MODEL_b9fb4d5f34144a6c830c5ecfeb335e7f"
            ],
            "layout": "IPY_MODEL_40ab5c365f124b138c8cbb5d7c196951"
          }
        },
        "e6e8f1282b794da8b7e6a00e70207e4c": {
          "model_module": "@jupyter-widgets/controls",
          "model_name": "HTMLModel",
          "model_module_version": "1.5.0",
          "state": {
            "_dom_classes": [],
            "_model_module": "@jupyter-widgets/controls",
            "_model_module_version": "1.5.0",
            "_model_name": "HTMLModel",
            "_view_count": null,
            "_view_module": "@jupyter-widgets/controls",
            "_view_module_version": "1.5.0",
            "_view_name": "HTMLView",
            "description": "",
            "description_tooltip": null,
            "layout": "IPY_MODEL_33aa0c226f1d43bb962d65f80f2e3453",
            "placeholder": "​",
            "style": "IPY_MODEL_29d65454714a4530ad43b4d2a050b5fe",
            "value": "Downloading (…)solve/main/vocab.txt: 100%"
          }
        },
        "70e2c38e14174cacac481294fc2b6e69": {
          "model_module": "@jupyter-widgets/controls",
          "model_name": "FloatProgressModel",
          "model_module_version": "1.5.0",
          "state": {
            "_dom_classes": [],
            "_model_module": "@jupyter-widgets/controls",
            "_model_module_version": "1.5.0",
            "_model_name": "FloatProgressModel",
            "_view_count": null,
            "_view_module": "@jupyter-widgets/controls",
            "_view_module_version": "1.5.0",
            "_view_name": "ProgressView",
            "bar_style": "success",
            "description": "",
            "description_tooltip": null,
            "layout": "IPY_MODEL_b8c3ff8ed7ce4626933f882374a2230d",
            "max": 824793,
            "min": 0,
            "orientation": "horizontal",
            "style": "IPY_MODEL_02e5d42c733f4f37a10b5a04d426ed05",
            "value": 824793
          }
        },
        "b9fb4d5f34144a6c830c5ecfeb335e7f": {
          "model_module": "@jupyter-widgets/controls",
          "model_name": "HTMLModel",
          "model_module_version": "1.5.0",
          "state": {
            "_dom_classes": [],
            "_model_module": "@jupyter-widgets/controls",
            "_model_module_version": "1.5.0",
            "_model_name": "HTMLModel",
            "_view_count": null,
            "_view_module": "@jupyter-widgets/controls",
            "_view_module_version": "1.5.0",
            "_view_name": "HTMLView",
            "description": "",
            "description_tooltip": null,
            "layout": "IPY_MODEL_cf6f33b31a964c1ba924e626a8222036",
            "placeholder": "​",
            "style": "IPY_MODEL_77338d455c554087bfe70f5f619aaa97",
            "value": " 825k/825k [00:00&lt;00:00, 11.4MB/s]"
          }
        },
        "40ab5c365f124b138c8cbb5d7c196951": {
          "model_module": "@jupyter-widgets/base",
          "model_name": "LayoutModel",
          "model_module_version": "1.2.0",
          "state": {
            "_model_module": "@jupyter-widgets/base",
            "_model_module_version": "1.2.0",
            "_model_name": "LayoutModel",
            "_view_count": null,
            "_view_module": "@jupyter-widgets/base",
            "_view_module_version": "1.2.0",
            "_view_name": "LayoutView",
            "align_content": null,
            "align_items": null,
            "align_self": null,
            "border": null,
            "bottom": null,
            "display": null,
            "flex": null,
            "flex_flow": null,
            "grid_area": null,
            "grid_auto_columns": null,
            "grid_auto_flow": null,
            "grid_auto_rows": null,
            "grid_column": null,
            "grid_gap": null,
            "grid_row": null,
            "grid_template_areas": null,
            "grid_template_columns": null,
            "grid_template_rows": null,
            "height": null,
            "justify_content": null,
            "justify_items": null,
            "left": null,
            "margin": null,
            "max_height": null,
            "max_width": null,
            "min_height": null,
            "min_width": null,
            "object_fit": null,
            "object_position": null,
            "order": null,
            "overflow": null,
            "overflow_x": null,
            "overflow_y": null,
            "padding": null,
            "right": null,
            "top": null,
            "visibility": null,
            "width": null
          }
        },
        "33aa0c226f1d43bb962d65f80f2e3453": {
          "model_module": "@jupyter-widgets/base",
          "model_name": "LayoutModel",
          "model_module_version": "1.2.0",
          "state": {
            "_model_module": "@jupyter-widgets/base",
            "_model_module_version": "1.2.0",
            "_model_name": "LayoutModel",
            "_view_count": null,
            "_view_module": "@jupyter-widgets/base",
            "_view_module_version": "1.2.0",
            "_view_name": "LayoutView",
            "align_content": null,
            "align_items": null,
            "align_self": null,
            "border": null,
            "bottom": null,
            "display": null,
            "flex": null,
            "flex_flow": null,
            "grid_area": null,
            "grid_auto_columns": null,
            "grid_auto_flow": null,
            "grid_auto_rows": null,
            "grid_column": null,
            "grid_gap": null,
            "grid_row": null,
            "grid_template_areas": null,
            "grid_template_columns": null,
            "grid_template_rows": null,
            "height": null,
            "justify_content": null,
            "justify_items": null,
            "left": null,
            "margin": null,
            "max_height": null,
            "max_width": null,
            "min_height": null,
            "min_width": null,
            "object_fit": null,
            "object_position": null,
            "order": null,
            "overflow": null,
            "overflow_x": null,
            "overflow_y": null,
            "padding": null,
            "right": null,
            "top": null,
            "visibility": null,
            "width": null
          }
        },
        "29d65454714a4530ad43b4d2a050b5fe": {
          "model_module": "@jupyter-widgets/controls",
          "model_name": "DescriptionStyleModel",
          "model_module_version": "1.5.0",
          "state": {
            "_model_module": "@jupyter-widgets/controls",
            "_model_module_version": "1.5.0",
            "_model_name": "DescriptionStyleModel",
            "_view_count": null,
            "_view_module": "@jupyter-widgets/base",
            "_view_module_version": "1.2.0",
            "_view_name": "StyleView",
            "description_width": ""
          }
        },
        "b8c3ff8ed7ce4626933f882374a2230d": {
          "model_module": "@jupyter-widgets/base",
          "model_name": "LayoutModel",
          "model_module_version": "1.2.0",
          "state": {
            "_model_module": "@jupyter-widgets/base",
            "_model_module_version": "1.2.0",
            "_model_name": "LayoutModel",
            "_view_count": null,
            "_view_module": "@jupyter-widgets/base",
            "_view_module_version": "1.2.0",
            "_view_name": "LayoutView",
            "align_content": null,
            "align_items": null,
            "align_self": null,
            "border": null,
            "bottom": null,
            "display": null,
            "flex": null,
            "flex_flow": null,
            "grid_area": null,
            "grid_auto_columns": null,
            "grid_auto_flow": null,
            "grid_auto_rows": null,
            "grid_column": null,
            "grid_gap": null,
            "grid_row": null,
            "grid_template_areas": null,
            "grid_template_columns": null,
            "grid_template_rows": null,
            "height": null,
            "justify_content": null,
            "justify_items": null,
            "left": null,
            "margin": null,
            "max_height": null,
            "max_width": null,
            "min_height": null,
            "min_width": null,
            "object_fit": null,
            "object_position": null,
            "order": null,
            "overflow": null,
            "overflow_x": null,
            "overflow_y": null,
            "padding": null,
            "right": null,
            "top": null,
            "visibility": null,
            "width": null
          }
        },
        "02e5d42c733f4f37a10b5a04d426ed05": {
          "model_module": "@jupyter-widgets/controls",
          "model_name": "ProgressStyleModel",
          "model_module_version": "1.5.0",
          "state": {
            "_model_module": "@jupyter-widgets/controls",
            "_model_module_version": "1.5.0",
            "_model_name": "ProgressStyleModel",
            "_view_count": null,
            "_view_module": "@jupyter-widgets/base",
            "_view_module_version": "1.2.0",
            "_view_name": "StyleView",
            "bar_color": null,
            "description_width": ""
          }
        },
        "cf6f33b31a964c1ba924e626a8222036": {
          "model_module": "@jupyter-widgets/base",
          "model_name": "LayoutModel",
          "model_module_version": "1.2.0",
          "state": {
            "_model_module": "@jupyter-widgets/base",
            "_model_module_version": "1.2.0",
            "_model_name": "LayoutModel",
            "_view_count": null,
            "_view_module": "@jupyter-widgets/base",
            "_view_module_version": "1.2.0",
            "_view_name": "LayoutView",
            "align_content": null,
            "align_items": null,
            "align_self": null,
            "border": null,
            "bottom": null,
            "display": null,
            "flex": null,
            "flex_flow": null,
            "grid_area": null,
            "grid_auto_columns": null,
            "grid_auto_flow": null,
            "grid_auto_rows": null,
            "grid_column": null,
            "grid_gap": null,
            "grid_row": null,
            "grid_template_areas": null,
            "grid_template_columns": null,
            "grid_template_rows": null,
            "height": null,
            "justify_content": null,
            "justify_items": null,
            "left": null,
            "margin": null,
            "max_height": null,
            "max_width": null,
            "min_height": null,
            "min_width": null,
            "object_fit": null,
            "object_position": null,
            "order": null,
            "overflow": null,
            "overflow_x": null,
            "overflow_y": null,
            "padding": null,
            "right": null,
            "top": null,
            "visibility": null,
            "width": null
          }
        },
        "77338d455c554087bfe70f5f619aaa97": {
          "model_module": "@jupyter-widgets/controls",
          "model_name": "DescriptionStyleModel",
          "model_module_version": "1.5.0",
          "state": {
            "_model_module": "@jupyter-widgets/controls",
            "_model_module_version": "1.5.0",
            "_model_name": "DescriptionStyleModel",
            "_view_count": null,
            "_view_module": "@jupyter-widgets/base",
            "_view_module_version": "1.2.0",
            "_view_name": "StyleView",
            "description_width": ""
          }
        },
        "516d5af541044355ae44a42363914701": {
          "model_module": "@jupyter-widgets/controls",
          "model_name": "HBoxModel",
          "model_module_version": "1.5.0",
          "state": {
            "_dom_classes": [],
            "_model_module": "@jupyter-widgets/controls",
            "_model_module_version": "1.5.0",
            "_model_name": "HBoxModel",
            "_view_count": null,
            "_view_module": "@jupyter-widgets/controls",
            "_view_module_version": "1.5.0",
            "_view_name": "HBoxView",
            "box_style": "",
            "children": [
              "IPY_MODEL_81dba0d455734945a3678f56dc33091c",
              "IPY_MODEL_943526d960bf4206a14e5b0b1c07f4d5",
              "IPY_MODEL_b90857dbaac5464392142a711a1eb731"
            ],
            "layout": "IPY_MODEL_8df358d70f3d43c5ba6b491c63e94bb1"
          }
        },
        "81dba0d455734945a3678f56dc33091c": {
          "model_module": "@jupyter-widgets/controls",
          "model_name": "HTMLModel",
          "model_module_version": "1.5.0",
          "state": {
            "_dom_classes": [],
            "_model_module": "@jupyter-widgets/controls",
            "_model_module_version": "1.5.0",
            "_model_name": "HTMLModel",
            "_view_count": null,
            "_view_module": "@jupyter-widgets/controls",
            "_view_module_version": "1.5.0",
            "_view_name": "HTMLView",
            "description": "",
            "description_tooltip": null,
            "layout": "IPY_MODEL_2df63ba31dde4f0cbfdf85df7a2a1046",
            "placeholder": "​",
            "style": "IPY_MODEL_c39d64c3972b422eb71fbec6e5846140",
            "value": "Downloading (…)/main/tokenizer.json: 100%"
          }
        },
        "943526d960bf4206a14e5b0b1c07f4d5": {
          "model_module": "@jupyter-widgets/controls",
          "model_name": "FloatProgressModel",
          "model_module_version": "1.5.0",
          "state": {
            "_dom_classes": [],
            "_model_module": "@jupyter-widgets/controls",
            "_model_module_version": "1.5.0",
            "_model_name": "FloatProgressModel",
            "_view_count": null,
            "_view_module": "@jupyter-widgets/controls",
            "_view_module_version": "1.5.0",
            "_view_name": "ProgressView",
            "bar_style": "success",
            "description": "",
            "description_tooltip": null,
            "layout": "IPY_MODEL_1ea42bc694b648319ea8c419cb17dee9",
            "max": 2642361,
            "min": 0,
            "orientation": "horizontal",
            "style": "IPY_MODEL_687f36a0576e4c10a86009b18968353a",
            "value": 2642361
          }
        },
        "b90857dbaac5464392142a711a1eb731": {
          "model_module": "@jupyter-widgets/controls",
          "model_name": "HTMLModel",
          "model_module_version": "1.5.0",
          "state": {
            "_dom_classes": [],
            "_model_module": "@jupyter-widgets/controls",
            "_model_module_version": "1.5.0",
            "_model_name": "HTMLModel",
            "_view_count": null,
            "_view_module": "@jupyter-widgets/controls",
            "_view_module_version": "1.5.0",
            "_view_name": "HTMLView",
            "description": "",
            "description_tooltip": null,
            "layout": "IPY_MODEL_680448051f3d4500bb19043e715f7045",
            "placeholder": "​",
            "style": "IPY_MODEL_08991994840749b5b7cc179d9437ba02",
            "value": " 2.64M/2.64M [00:00&lt;00:00, 46.8MB/s]"
          }
        },
        "8df358d70f3d43c5ba6b491c63e94bb1": {
          "model_module": "@jupyter-widgets/base",
          "model_name": "LayoutModel",
          "model_module_version": "1.2.0",
          "state": {
            "_model_module": "@jupyter-widgets/base",
            "_model_module_version": "1.2.0",
            "_model_name": "LayoutModel",
            "_view_count": null,
            "_view_module": "@jupyter-widgets/base",
            "_view_module_version": "1.2.0",
            "_view_name": "LayoutView",
            "align_content": null,
            "align_items": null,
            "align_self": null,
            "border": null,
            "bottom": null,
            "display": null,
            "flex": null,
            "flex_flow": null,
            "grid_area": null,
            "grid_auto_columns": null,
            "grid_auto_flow": null,
            "grid_auto_rows": null,
            "grid_column": null,
            "grid_gap": null,
            "grid_row": null,
            "grid_template_areas": null,
            "grid_template_columns": null,
            "grid_template_rows": null,
            "height": null,
            "justify_content": null,
            "justify_items": null,
            "left": null,
            "margin": null,
            "max_height": null,
            "max_width": null,
            "min_height": null,
            "min_width": null,
            "object_fit": null,
            "object_position": null,
            "order": null,
            "overflow": null,
            "overflow_x": null,
            "overflow_y": null,
            "padding": null,
            "right": null,
            "top": null,
            "visibility": null,
            "width": null
          }
        },
        "2df63ba31dde4f0cbfdf85df7a2a1046": {
          "model_module": "@jupyter-widgets/base",
          "model_name": "LayoutModel",
          "model_module_version": "1.2.0",
          "state": {
            "_model_module": "@jupyter-widgets/base",
            "_model_module_version": "1.2.0",
            "_model_name": "LayoutModel",
            "_view_count": null,
            "_view_module": "@jupyter-widgets/base",
            "_view_module_version": "1.2.0",
            "_view_name": "LayoutView",
            "align_content": null,
            "align_items": null,
            "align_self": null,
            "border": null,
            "bottom": null,
            "display": null,
            "flex": null,
            "flex_flow": null,
            "grid_area": null,
            "grid_auto_columns": null,
            "grid_auto_flow": null,
            "grid_auto_rows": null,
            "grid_column": null,
            "grid_gap": null,
            "grid_row": null,
            "grid_template_areas": null,
            "grid_template_columns": null,
            "grid_template_rows": null,
            "height": null,
            "justify_content": null,
            "justify_items": null,
            "left": null,
            "margin": null,
            "max_height": null,
            "max_width": null,
            "min_height": null,
            "min_width": null,
            "object_fit": null,
            "object_position": null,
            "order": null,
            "overflow": null,
            "overflow_x": null,
            "overflow_y": null,
            "padding": null,
            "right": null,
            "top": null,
            "visibility": null,
            "width": null
          }
        },
        "c39d64c3972b422eb71fbec6e5846140": {
          "model_module": "@jupyter-widgets/controls",
          "model_name": "DescriptionStyleModel",
          "model_module_version": "1.5.0",
          "state": {
            "_model_module": "@jupyter-widgets/controls",
            "_model_module_version": "1.5.0",
            "_model_name": "DescriptionStyleModel",
            "_view_count": null,
            "_view_module": "@jupyter-widgets/base",
            "_view_module_version": "1.2.0",
            "_view_name": "StyleView",
            "description_width": ""
          }
        },
        "1ea42bc694b648319ea8c419cb17dee9": {
          "model_module": "@jupyter-widgets/base",
          "model_name": "LayoutModel",
          "model_module_version": "1.2.0",
          "state": {
            "_model_module": "@jupyter-widgets/base",
            "_model_module_version": "1.2.0",
            "_model_name": "LayoutModel",
            "_view_count": null,
            "_view_module": "@jupyter-widgets/base",
            "_view_module_version": "1.2.0",
            "_view_name": "LayoutView",
            "align_content": null,
            "align_items": null,
            "align_self": null,
            "border": null,
            "bottom": null,
            "display": null,
            "flex": null,
            "flex_flow": null,
            "grid_area": null,
            "grid_auto_columns": null,
            "grid_auto_flow": null,
            "grid_auto_rows": null,
            "grid_column": null,
            "grid_gap": null,
            "grid_row": null,
            "grid_template_areas": null,
            "grid_template_columns": null,
            "grid_template_rows": null,
            "height": null,
            "justify_content": null,
            "justify_items": null,
            "left": null,
            "margin": null,
            "max_height": null,
            "max_width": null,
            "min_height": null,
            "min_width": null,
            "object_fit": null,
            "object_position": null,
            "order": null,
            "overflow": null,
            "overflow_x": null,
            "overflow_y": null,
            "padding": null,
            "right": null,
            "top": null,
            "visibility": null,
            "width": null
          }
        },
        "687f36a0576e4c10a86009b18968353a": {
          "model_module": "@jupyter-widgets/controls",
          "model_name": "ProgressStyleModel",
          "model_module_version": "1.5.0",
          "state": {
            "_model_module": "@jupyter-widgets/controls",
            "_model_module_version": "1.5.0",
            "_model_name": "ProgressStyleModel",
            "_view_count": null,
            "_view_module": "@jupyter-widgets/base",
            "_view_module_version": "1.2.0",
            "_view_name": "StyleView",
            "bar_color": null,
            "description_width": ""
          }
        },
        "680448051f3d4500bb19043e715f7045": {
          "model_module": "@jupyter-widgets/base",
          "model_name": "LayoutModel",
          "model_module_version": "1.2.0",
          "state": {
            "_model_module": "@jupyter-widgets/base",
            "_model_module_version": "1.2.0",
            "_model_name": "LayoutModel",
            "_view_count": null,
            "_view_module": "@jupyter-widgets/base",
            "_view_module_version": "1.2.0",
            "_view_name": "LayoutView",
            "align_content": null,
            "align_items": null,
            "align_self": null,
            "border": null,
            "bottom": null,
            "display": null,
            "flex": null,
            "flex_flow": null,
            "grid_area": null,
            "grid_auto_columns": null,
            "grid_auto_flow": null,
            "grid_auto_rows": null,
            "grid_column": null,
            "grid_gap": null,
            "grid_row": null,
            "grid_template_areas": null,
            "grid_template_columns": null,
            "grid_template_rows": null,
            "height": null,
            "justify_content": null,
            "justify_items": null,
            "left": null,
            "margin": null,
            "max_height": null,
            "max_width": null,
            "min_height": null,
            "min_width": null,
            "object_fit": null,
            "object_position": null,
            "order": null,
            "overflow": null,
            "overflow_x": null,
            "overflow_y": null,
            "padding": null,
            "right": null,
            "top": null,
            "visibility": null,
            "width": null
          }
        },
        "08991994840749b5b7cc179d9437ba02": {
          "model_module": "@jupyter-widgets/controls",
          "model_name": "DescriptionStyleModel",
          "model_module_version": "1.5.0",
          "state": {
            "_model_module": "@jupyter-widgets/controls",
            "_model_module_version": "1.5.0",
            "_model_name": "DescriptionStyleModel",
            "_view_count": null,
            "_view_module": "@jupyter-widgets/base",
            "_view_module_version": "1.2.0",
            "_view_name": "StyleView",
            "description_width": ""
          }
        },
        "8a6be6e187d44036bcadbcc24c1f4413": {
          "model_module": "@jupyter-widgets/controls",
          "model_name": "HBoxModel",
          "model_module_version": "1.5.0",
          "state": {
            "_dom_classes": [],
            "_model_module": "@jupyter-widgets/controls",
            "_model_module_version": "1.5.0",
            "_model_name": "HBoxModel",
            "_view_count": null,
            "_view_module": "@jupyter-widgets/controls",
            "_view_module_version": "1.5.0",
            "_view_name": "HBoxView",
            "box_style": "",
            "children": [
              "IPY_MODEL_6680d3d4d8b842868a01e7f01df60a25",
              "IPY_MODEL_aa78648be97c460aae6789923cd19f0f",
              "IPY_MODEL_a3f70fd88f84468da94f29dde9dae141"
            ],
            "layout": "IPY_MODEL_5c63006763e2410fb371a8af729c62aa"
          }
        },
        "6680d3d4d8b842868a01e7f01df60a25": {
          "model_module": "@jupyter-widgets/controls",
          "model_name": "HTMLModel",
          "model_module_version": "1.5.0",
          "state": {
            "_dom_classes": [],
            "_model_module": "@jupyter-widgets/controls",
            "_model_module_version": "1.5.0",
            "_model_name": "HTMLModel",
            "_view_count": null,
            "_view_module": "@jupyter-widgets/controls",
            "_view_module_version": "1.5.0",
            "_view_name": "HTMLView",
            "description": "",
            "description_tooltip": null,
            "layout": "IPY_MODEL_38bcc5b084744d71b764b671b5b79213",
            "placeholder": "​",
            "style": "IPY_MODEL_79f9f791a6e84eb3b12a59eb1e702f38",
            "value": "Downloading (…)cial_tokens_map.json: 100%"
          }
        },
        "aa78648be97c460aae6789923cd19f0f": {
          "model_module": "@jupyter-widgets/controls",
          "model_name": "FloatProgressModel",
          "model_module_version": "1.5.0",
          "state": {
            "_dom_classes": [],
            "_model_module": "@jupyter-widgets/controls",
            "_model_module_version": "1.5.0",
            "_model_name": "FloatProgressModel",
            "_view_count": null,
            "_view_module": "@jupyter-widgets/controls",
            "_view_module_version": "1.5.0",
            "_view_name": "ProgressView",
            "bar_style": "success",
            "description": "",
            "description_tooltip": null,
            "layout": "IPY_MODEL_fb1fbcf090634e56bf06b4e97b16a17a",
            "max": 112,
            "min": 0,
            "orientation": "horizontal",
            "style": "IPY_MODEL_6f985e6a2a964643acc7b06e2fb9c4a6",
            "value": 112
          }
        },
        "a3f70fd88f84468da94f29dde9dae141": {
          "model_module": "@jupyter-widgets/controls",
          "model_name": "HTMLModel",
          "model_module_version": "1.5.0",
          "state": {
            "_dom_classes": [],
            "_model_module": "@jupyter-widgets/controls",
            "_model_module_version": "1.5.0",
            "_model_name": "HTMLModel",
            "_view_count": null,
            "_view_module": "@jupyter-widgets/controls",
            "_view_module_version": "1.5.0",
            "_view_name": "HTMLView",
            "description": "",
            "description_tooltip": null,
            "layout": "IPY_MODEL_04887442d86b4b279726e27ea5b2c7e9",
            "placeholder": "​",
            "style": "IPY_MODEL_0147a59806e64784a1214cd9cb825f57",
            "value": " 112/112 [00:00&lt;00:00, 1.18kB/s]"
          }
        },
        "5c63006763e2410fb371a8af729c62aa": {
          "model_module": "@jupyter-widgets/base",
          "model_name": "LayoutModel",
          "model_module_version": "1.2.0",
          "state": {
            "_model_module": "@jupyter-widgets/base",
            "_model_module_version": "1.2.0",
            "_model_name": "LayoutModel",
            "_view_count": null,
            "_view_module": "@jupyter-widgets/base",
            "_view_module_version": "1.2.0",
            "_view_name": "LayoutView",
            "align_content": null,
            "align_items": null,
            "align_self": null,
            "border": null,
            "bottom": null,
            "display": null,
            "flex": null,
            "flex_flow": null,
            "grid_area": null,
            "grid_auto_columns": null,
            "grid_auto_flow": null,
            "grid_auto_rows": null,
            "grid_column": null,
            "grid_gap": null,
            "grid_row": null,
            "grid_template_areas": null,
            "grid_template_columns": null,
            "grid_template_rows": null,
            "height": null,
            "justify_content": null,
            "justify_items": null,
            "left": null,
            "margin": null,
            "max_height": null,
            "max_width": null,
            "min_height": null,
            "min_width": null,
            "object_fit": null,
            "object_position": null,
            "order": null,
            "overflow": null,
            "overflow_x": null,
            "overflow_y": null,
            "padding": null,
            "right": null,
            "top": null,
            "visibility": null,
            "width": null
          }
        },
        "38bcc5b084744d71b764b671b5b79213": {
          "model_module": "@jupyter-widgets/base",
          "model_name": "LayoutModel",
          "model_module_version": "1.2.0",
          "state": {
            "_model_module": "@jupyter-widgets/base",
            "_model_module_version": "1.2.0",
            "_model_name": "LayoutModel",
            "_view_count": null,
            "_view_module": "@jupyter-widgets/base",
            "_view_module_version": "1.2.0",
            "_view_name": "LayoutView",
            "align_content": null,
            "align_items": null,
            "align_self": null,
            "border": null,
            "bottom": null,
            "display": null,
            "flex": null,
            "flex_flow": null,
            "grid_area": null,
            "grid_auto_columns": null,
            "grid_auto_flow": null,
            "grid_auto_rows": null,
            "grid_column": null,
            "grid_gap": null,
            "grid_row": null,
            "grid_template_areas": null,
            "grid_template_columns": null,
            "grid_template_rows": null,
            "height": null,
            "justify_content": null,
            "justify_items": null,
            "left": null,
            "margin": null,
            "max_height": null,
            "max_width": null,
            "min_height": null,
            "min_width": null,
            "object_fit": null,
            "object_position": null,
            "order": null,
            "overflow": null,
            "overflow_x": null,
            "overflow_y": null,
            "padding": null,
            "right": null,
            "top": null,
            "visibility": null,
            "width": null
          }
        },
        "79f9f791a6e84eb3b12a59eb1e702f38": {
          "model_module": "@jupyter-widgets/controls",
          "model_name": "DescriptionStyleModel",
          "model_module_version": "1.5.0",
          "state": {
            "_model_module": "@jupyter-widgets/controls",
            "_model_module_version": "1.5.0",
            "_model_name": "DescriptionStyleModel",
            "_view_count": null,
            "_view_module": "@jupyter-widgets/base",
            "_view_module_version": "1.2.0",
            "_view_name": "StyleView",
            "description_width": ""
          }
        },
        "fb1fbcf090634e56bf06b4e97b16a17a": {
          "model_module": "@jupyter-widgets/base",
          "model_name": "LayoutModel",
          "model_module_version": "1.2.0",
          "state": {
            "_model_module": "@jupyter-widgets/base",
            "_model_module_version": "1.2.0",
            "_model_name": "LayoutModel",
            "_view_count": null,
            "_view_module": "@jupyter-widgets/base",
            "_view_module_version": "1.2.0",
            "_view_name": "LayoutView",
            "align_content": null,
            "align_items": null,
            "align_self": null,
            "border": null,
            "bottom": null,
            "display": null,
            "flex": null,
            "flex_flow": null,
            "grid_area": null,
            "grid_auto_columns": null,
            "grid_auto_flow": null,
            "grid_auto_rows": null,
            "grid_column": null,
            "grid_gap": null,
            "grid_row": null,
            "grid_template_areas": null,
            "grid_template_columns": null,
            "grid_template_rows": null,
            "height": null,
            "justify_content": null,
            "justify_items": null,
            "left": null,
            "margin": null,
            "max_height": null,
            "max_width": null,
            "min_height": null,
            "min_width": null,
            "object_fit": null,
            "object_position": null,
            "order": null,
            "overflow": null,
            "overflow_x": null,
            "overflow_y": null,
            "padding": null,
            "right": null,
            "top": null,
            "visibility": null,
            "width": null
          }
        },
        "6f985e6a2a964643acc7b06e2fb9c4a6": {
          "model_module": "@jupyter-widgets/controls",
          "model_name": "ProgressStyleModel",
          "model_module_version": "1.5.0",
          "state": {
            "_model_module": "@jupyter-widgets/controls",
            "_model_module_version": "1.5.0",
            "_model_name": "ProgressStyleModel",
            "_view_count": null,
            "_view_module": "@jupyter-widgets/base",
            "_view_module_version": "1.2.0",
            "_view_name": "StyleView",
            "bar_color": null,
            "description_width": ""
          }
        },
        "04887442d86b4b279726e27ea5b2c7e9": {
          "model_module": "@jupyter-widgets/base",
          "model_name": "LayoutModel",
          "model_module_version": "1.2.0",
          "state": {
            "_model_module": "@jupyter-widgets/base",
            "_model_module_version": "1.2.0",
            "_model_name": "LayoutModel",
            "_view_count": null,
            "_view_module": "@jupyter-widgets/base",
            "_view_module_version": "1.2.0",
            "_view_name": "LayoutView",
            "align_content": null,
            "align_items": null,
            "align_self": null,
            "border": null,
            "bottom": null,
            "display": null,
            "flex": null,
            "flex_flow": null,
            "grid_area": null,
            "grid_auto_columns": null,
            "grid_auto_flow": null,
            "grid_auto_rows": null,
            "grid_column": null,
            "grid_gap": null,
            "grid_row": null,
            "grid_template_areas": null,
            "grid_template_columns": null,
            "grid_template_rows": null,
            "height": null,
            "justify_content": null,
            "justify_items": null,
            "left": null,
            "margin": null,
            "max_height": null,
            "max_width": null,
            "min_height": null,
            "min_width": null,
            "object_fit": null,
            "object_position": null,
            "order": null,
            "overflow": null,
            "overflow_x": null,
            "overflow_y": null,
            "padding": null,
            "right": null,
            "top": null,
            "visibility": null,
            "width": null
          }
        },
        "0147a59806e64784a1214cd9cb825f57": {
          "model_module": "@jupyter-widgets/controls",
          "model_name": "DescriptionStyleModel",
          "model_module_version": "1.5.0",
          "state": {
            "_model_module": "@jupyter-widgets/controls",
            "_model_module_version": "1.5.0",
            "_model_name": "DescriptionStyleModel",
            "_view_count": null,
            "_view_module": "@jupyter-widgets/base",
            "_view_module_version": "1.2.0",
            "_view_name": "StyleView",
            "description_width": ""
          }
        },
        "6f3fc8c26cad4e85bc0d7bba58339891": {
          "model_module": "@jupyter-widgets/controls",
          "model_name": "HBoxModel",
          "model_module_version": "1.5.0",
          "state": {
            "_dom_classes": [],
            "_model_module": "@jupyter-widgets/controls",
            "_model_module_version": "1.5.0",
            "_model_name": "HBoxModel",
            "_view_count": null,
            "_view_module": "@jupyter-widgets/controls",
            "_view_module_version": "1.5.0",
            "_view_name": "HBoxView",
            "box_style": "",
            "children": [
              "IPY_MODEL_c505a37cce7f4e9daf4dfdea761a1b23",
              "IPY_MODEL_44e32be059eb42dcbbf8d33f43a4d01a",
              "IPY_MODEL_b4cc13afd23e47ffad067d9c7c806d70"
            ],
            "layout": "IPY_MODEL_e04c372505974bc9a04a1fa022f0a4cb"
          }
        },
        "c505a37cce7f4e9daf4dfdea761a1b23": {
          "model_module": "@jupyter-widgets/controls",
          "model_name": "HTMLModel",
          "model_module_version": "1.5.0",
          "state": {
            "_dom_classes": [],
            "_model_module": "@jupyter-widgets/controls",
            "_model_module_version": "1.5.0",
            "_model_name": "HTMLModel",
            "_view_count": null,
            "_view_module": "@jupyter-widgets/controls",
            "_view_module_version": "1.5.0",
            "_view_name": "HTMLView",
            "description": "",
            "description_tooltip": null,
            "layout": "IPY_MODEL_6c8466a447514b1781e4f2a3fb78c31c",
            "placeholder": "​",
            "style": "IPY_MODEL_b6d59b0d67bb4a48a25efdb308b7075c",
            "value": "Downloading (…)lve/main/config.json: 100%"
          }
        },
        "44e32be059eb42dcbbf8d33f43a4d01a": {
          "model_module": "@jupyter-widgets/controls",
          "model_name": "FloatProgressModel",
          "model_module_version": "1.5.0",
          "state": {
            "_dom_classes": [],
            "_model_module": "@jupyter-widgets/controls",
            "_model_module_version": "1.5.0",
            "_model_name": "FloatProgressModel",
            "_view_count": null,
            "_view_module": "@jupyter-widgets/controls",
            "_view_module_version": "1.5.0",
            "_view_name": "ProgressView",
            "bar_style": "success",
            "description": "",
            "description_tooltip": null,
            "layout": "IPY_MODEL_5c104ba8ac6e4c8e8b315b1525fac125",
            "max": 851,
            "min": 0,
            "orientation": "horizontal",
            "style": "IPY_MODEL_bed0db16d1bf426c90b8f3c7e9f61eac",
            "value": 851
          }
        },
        "b4cc13afd23e47ffad067d9c7c806d70": {
          "model_module": "@jupyter-widgets/controls",
          "model_name": "HTMLModel",
          "model_module_version": "1.5.0",
          "state": {
            "_dom_classes": [],
            "_model_module": "@jupyter-widgets/controls",
            "_model_module_version": "1.5.0",
            "_model_name": "HTMLModel",
            "_view_count": null,
            "_view_module": "@jupyter-widgets/controls",
            "_view_module_version": "1.5.0",
            "_view_name": "HTMLView",
            "description": "",
            "description_tooltip": null,
            "layout": "IPY_MODEL_c66033b3248849ae8f10cd06bd8e9875",
            "placeholder": "​",
            "style": "IPY_MODEL_440e0224f89a4ea0b25e931c8aca5174",
            "value": " 851/851 [00:00&lt;00:00, 20.2kB/s]"
          }
        },
        "e04c372505974bc9a04a1fa022f0a4cb": {
          "model_module": "@jupyter-widgets/base",
          "model_name": "LayoutModel",
          "model_module_version": "1.2.0",
          "state": {
            "_model_module": "@jupyter-widgets/base",
            "_model_module_version": "1.2.0",
            "_model_name": "LayoutModel",
            "_view_count": null,
            "_view_module": "@jupyter-widgets/base",
            "_view_module_version": "1.2.0",
            "_view_name": "LayoutView",
            "align_content": null,
            "align_items": null,
            "align_self": null,
            "border": null,
            "bottom": null,
            "display": null,
            "flex": null,
            "flex_flow": null,
            "grid_area": null,
            "grid_auto_columns": null,
            "grid_auto_flow": null,
            "grid_auto_rows": null,
            "grid_column": null,
            "grid_gap": null,
            "grid_row": null,
            "grid_template_areas": null,
            "grid_template_columns": null,
            "grid_template_rows": null,
            "height": null,
            "justify_content": null,
            "justify_items": null,
            "left": null,
            "margin": null,
            "max_height": null,
            "max_width": null,
            "min_height": null,
            "min_width": null,
            "object_fit": null,
            "object_position": null,
            "order": null,
            "overflow": null,
            "overflow_x": null,
            "overflow_y": null,
            "padding": null,
            "right": null,
            "top": null,
            "visibility": null,
            "width": null
          }
        },
        "6c8466a447514b1781e4f2a3fb78c31c": {
          "model_module": "@jupyter-widgets/base",
          "model_name": "LayoutModel",
          "model_module_version": "1.2.0",
          "state": {
            "_model_module": "@jupyter-widgets/base",
            "_model_module_version": "1.2.0",
            "_model_name": "LayoutModel",
            "_view_count": null,
            "_view_module": "@jupyter-widgets/base",
            "_view_module_version": "1.2.0",
            "_view_name": "LayoutView",
            "align_content": null,
            "align_items": null,
            "align_self": null,
            "border": null,
            "bottom": null,
            "display": null,
            "flex": null,
            "flex_flow": null,
            "grid_area": null,
            "grid_auto_columns": null,
            "grid_auto_flow": null,
            "grid_auto_rows": null,
            "grid_column": null,
            "grid_gap": null,
            "grid_row": null,
            "grid_template_areas": null,
            "grid_template_columns": null,
            "grid_template_rows": null,
            "height": null,
            "justify_content": null,
            "justify_items": null,
            "left": null,
            "margin": null,
            "max_height": null,
            "max_width": null,
            "min_height": null,
            "min_width": null,
            "object_fit": null,
            "object_position": null,
            "order": null,
            "overflow": null,
            "overflow_x": null,
            "overflow_y": null,
            "padding": null,
            "right": null,
            "top": null,
            "visibility": null,
            "width": null
          }
        },
        "b6d59b0d67bb4a48a25efdb308b7075c": {
          "model_module": "@jupyter-widgets/controls",
          "model_name": "DescriptionStyleModel",
          "model_module_version": "1.5.0",
          "state": {
            "_model_module": "@jupyter-widgets/controls",
            "_model_module_version": "1.5.0",
            "_model_name": "DescriptionStyleModel",
            "_view_count": null,
            "_view_module": "@jupyter-widgets/base",
            "_view_module_version": "1.2.0",
            "_view_name": "StyleView",
            "description_width": ""
          }
        },
        "5c104ba8ac6e4c8e8b315b1525fac125": {
          "model_module": "@jupyter-widgets/base",
          "model_name": "LayoutModel",
          "model_module_version": "1.2.0",
          "state": {
            "_model_module": "@jupyter-widgets/base",
            "_model_module_version": "1.2.0",
            "_model_name": "LayoutModel",
            "_view_count": null,
            "_view_module": "@jupyter-widgets/base",
            "_view_module_version": "1.2.0",
            "_view_name": "LayoutView",
            "align_content": null,
            "align_items": null,
            "align_self": null,
            "border": null,
            "bottom": null,
            "display": null,
            "flex": null,
            "flex_flow": null,
            "grid_area": null,
            "grid_auto_columns": null,
            "grid_auto_flow": null,
            "grid_auto_rows": null,
            "grid_column": null,
            "grid_gap": null,
            "grid_row": null,
            "grid_template_areas": null,
            "grid_template_columns": null,
            "grid_template_rows": null,
            "height": null,
            "justify_content": null,
            "justify_items": null,
            "left": null,
            "margin": null,
            "max_height": null,
            "max_width": null,
            "min_height": null,
            "min_width": null,
            "object_fit": null,
            "object_position": null,
            "order": null,
            "overflow": null,
            "overflow_x": null,
            "overflow_y": null,
            "padding": null,
            "right": null,
            "top": null,
            "visibility": null,
            "width": null
          }
        },
        "bed0db16d1bf426c90b8f3c7e9f61eac": {
          "model_module": "@jupyter-widgets/controls",
          "model_name": "ProgressStyleModel",
          "model_module_version": "1.5.0",
          "state": {
            "_model_module": "@jupyter-widgets/controls",
            "_model_module_version": "1.5.0",
            "_model_name": "ProgressStyleModel",
            "_view_count": null,
            "_view_module": "@jupyter-widgets/base",
            "_view_module_version": "1.2.0",
            "_view_name": "StyleView",
            "bar_color": null,
            "description_width": ""
          }
        },
        "c66033b3248849ae8f10cd06bd8e9875": {
          "model_module": "@jupyter-widgets/base",
          "model_name": "LayoutModel",
          "model_module_version": "1.2.0",
          "state": {
            "_model_module": "@jupyter-widgets/base",
            "_model_module_version": "1.2.0",
            "_model_name": "LayoutModel",
            "_view_count": null,
            "_view_module": "@jupyter-widgets/base",
            "_view_module_version": "1.2.0",
            "_view_name": "LayoutView",
            "align_content": null,
            "align_items": null,
            "align_self": null,
            "border": null,
            "bottom": null,
            "display": null,
            "flex": null,
            "flex_flow": null,
            "grid_area": null,
            "grid_auto_columns": null,
            "grid_auto_flow": null,
            "grid_auto_rows": null,
            "grid_column": null,
            "grid_gap": null,
            "grid_row": null,
            "grid_template_areas": null,
            "grid_template_columns": null,
            "grid_template_rows": null,
            "height": null,
            "justify_content": null,
            "justify_items": null,
            "left": null,
            "margin": null,
            "max_height": null,
            "max_width": null,
            "min_height": null,
            "min_width": null,
            "object_fit": null,
            "object_position": null,
            "order": null,
            "overflow": null,
            "overflow_x": null,
            "overflow_y": null,
            "padding": null,
            "right": null,
            "top": null,
            "visibility": null,
            "width": null
          }
        },
        "440e0224f89a4ea0b25e931c8aca5174": {
          "model_module": "@jupyter-widgets/controls",
          "model_name": "DescriptionStyleModel",
          "model_module_version": "1.5.0",
          "state": {
            "_model_module": "@jupyter-widgets/controls",
            "_model_module_version": "1.5.0",
            "_model_name": "DescriptionStyleModel",
            "_view_count": null,
            "_view_module": "@jupyter-widgets/base",
            "_view_module_version": "1.2.0",
            "_view_name": "StyleView",
            "description_width": ""
          }
        },
        "dd37f7811c59433c9bfef82e133c348f": {
          "model_module": "@jupyter-widgets/controls",
          "model_name": "HBoxModel",
          "model_module_version": "1.5.0",
          "state": {
            "_dom_classes": [],
            "_model_module": "@jupyter-widgets/controls",
            "_model_module_version": "1.5.0",
            "_model_name": "HBoxModel",
            "_view_count": null,
            "_view_module": "@jupyter-widgets/controls",
            "_view_module_version": "1.5.0",
            "_view_name": "HBoxView",
            "box_style": "",
            "children": [
              "IPY_MODEL_72048db799e84a9c8b70ae28f36c8747",
              "IPY_MODEL_d3b3bbf759af42bcb3a77d3f3930174c",
              "IPY_MODEL_bd657bb8ad6c454fbb6d0a5a0874849c"
            ],
            "layout": "IPY_MODEL_15b614b845a34a87b270eef37e68c31c"
          }
        },
        "72048db799e84a9c8b70ae28f36c8747": {
          "model_module": "@jupyter-widgets/controls",
          "model_name": "HTMLModel",
          "model_module_version": "1.5.0",
          "state": {
            "_dom_classes": [],
            "_model_module": "@jupyter-widgets/controls",
            "_model_module_version": "1.5.0",
            "_model_name": "HTMLModel",
            "_view_count": null,
            "_view_module": "@jupyter-widgets/controls",
            "_view_module_version": "1.5.0",
            "_view_name": "HTMLView",
            "description": "",
            "description_tooltip": null,
            "layout": "IPY_MODEL_d9e5f9779adb41d68e2c153d801f0691",
            "placeholder": "​",
            "style": "IPY_MODEL_62ef3b6c0ba742d885bf699780b8f446",
            "value": "Downloading pytorch_model.bin: 100%"
          }
        },
        "d3b3bbf759af42bcb3a77d3f3930174c": {
          "model_module": "@jupyter-widgets/controls",
          "model_name": "FloatProgressModel",
          "model_module_version": "1.5.0",
          "state": {
            "_dom_classes": [],
            "_model_module": "@jupyter-widgets/controls",
            "_model_module_version": "1.5.0",
            "_model_name": "FloatProgressModel",
            "_view_count": null,
            "_view_module": "@jupyter-widgets/controls",
            "_view_module_version": "1.5.0",
            "_view_name": "ProgressView",
            "bar_style": "success",
            "description": "",
            "description_tooltip": null,
            "layout": "IPY_MODEL_c7881f1d753348bd9c4fcd08aa4ea4b9",
            "max": 538485425,
            "min": 0,
            "orientation": "horizontal",
            "style": "IPY_MODEL_5ac50b564cef4358b349d6c91f9635a7",
            "value": 538485425
          }
        },
        "bd657bb8ad6c454fbb6d0a5a0874849c": {
          "model_module": "@jupyter-widgets/controls",
          "model_name": "HTMLModel",
          "model_module_version": "1.5.0",
          "state": {
            "_dom_classes": [],
            "_model_module": "@jupyter-widgets/controls",
            "_model_module_version": "1.5.0",
            "_model_name": "HTMLModel",
            "_view_count": null,
            "_view_module": "@jupyter-widgets/controls",
            "_view_module_version": "1.5.0",
            "_view_name": "HTMLView",
            "description": "",
            "description_tooltip": null,
            "layout": "IPY_MODEL_92d3f98da6c14571b6df3958af2924d5",
            "placeholder": "​",
            "style": "IPY_MODEL_3763da0d7faa49ec9dc6243e3aa76b5f",
            "value": " 538M/538M [03:18&lt;00:00, 6.81MB/s]"
          }
        },
        "15b614b845a34a87b270eef37e68c31c": {
          "model_module": "@jupyter-widgets/base",
          "model_name": "LayoutModel",
          "model_module_version": "1.2.0",
          "state": {
            "_model_module": "@jupyter-widgets/base",
            "_model_module_version": "1.2.0",
            "_model_name": "LayoutModel",
            "_view_count": null,
            "_view_module": "@jupyter-widgets/base",
            "_view_module_version": "1.2.0",
            "_view_name": "LayoutView",
            "align_content": null,
            "align_items": null,
            "align_self": null,
            "border": null,
            "bottom": null,
            "display": null,
            "flex": null,
            "flex_flow": null,
            "grid_area": null,
            "grid_auto_columns": null,
            "grid_auto_flow": null,
            "grid_auto_rows": null,
            "grid_column": null,
            "grid_gap": null,
            "grid_row": null,
            "grid_template_areas": null,
            "grid_template_columns": null,
            "grid_template_rows": null,
            "height": null,
            "justify_content": null,
            "justify_items": null,
            "left": null,
            "margin": null,
            "max_height": null,
            "max_width": null,
            "min_height": null,
            "min_width": null,
            "object_fit": null,
            "object_position": null,
            "order": null,
            "overflow": null,
            "overflow_x": null,
            "overflow_y": null,
            "padding": null,
            "right": null,
            "top": null,
            "visibility": null,
            "width": null
          }
        },
        "d9e5f9779adb41d68e2c153d801f0691": {
          "model_module": "@jupyter-widgets/base",
          "model_name": "LayoutModel",
          "model_module_version": "1.2.0",
          "state": {
            "_model_module": "@jupyter-widgets/base",
            "_model_module_version": "1.2.0",
            "_model_name": "LayoutModel",
            "_view_count": null,
            "_view_module": "@jupyter-widgets/base",
            "_view_module_version": "1.2.0",
            "_view_name": "LayoutView",
            "align_content": null,
            "align_items": null,
            "align_self": null,
            "border": null,
            "bottom": null,
            "display": null,
            "flex": null,
            "flex_flow": null,
            "grid_area": null,
            "grid_auto_columns": null,
            "grid_auto_flow": null,
            "grid_auto_rows": null,
            "grid_column": null,
            "grid_gap": null,
            "grid_row": null,
            "grid_template_areas": null,
            "grid_template_columns": null,
            "grid_template_rows": null,
            "height": null,
            "justify_content": null,
            "justify_items": null,
            "left": null,
            "margin": null,
            "max_height": null,
            "max_width": null,
            "min_height": null,
            "min_width": null,
            "object_fit": null,
            "object_position": null,
            "order": null,
            "overflow": null,
            "overflow_x": null,
            "overflow_y": null,
            "padding": null,
            "right": null,
            "top": null,
            "visibility": null,
            "width": null
          }
        },
        "62ef3b6c0ba742d885bf699780b8f446": {
          "model_module": "@jupyter-widgets/controls",
          "model_name": "DescriptionStyleModel",
          "model_module_version": "1.5.0",
          "state": {
            "_model_module": "@jupyter-widgets/controls",
            "_model_module_version": "1.5.0",
            "_model_name": "DescriptionStyleModel",
            "_view_count": null,
            "_view_module": "@jupyter-widgets/base",
            "_view_module_version": "1.2.0",
            "_view_name": "StyleView",
            "description_width": ""
          }
        },
        "c7881f1d753348bd9c4fcd08aa4ea4b9": {
          "model_module": "@jupyter-widgets/base",
          "model_name": "LayoutModel",
          "model_module_version": "1.2.0",
          "state": {
            "_model_module": "@jupyter-widgets/base",
            "_model_module_version": "1.2.0",
            "_model_name": "LayoutModel",
            "_view_count": null,
            "_view_module": "@jupyter-widgets/base",
            "_view_module_version": "1.2.0",
            "_view_name": "LayoutView",
            "align_content": null,
            "align_items": null,
            "align_self": null,
            "border": null,
            "bottom": null,
            "display": null,
            "flex": null,
            "flex_flow": null,
            "grid_area": null,
            "grid_auto_columns": null,
            "grid_auto_flow": null,
            "grid_auto_rows": null,
            "grid_column": null,
            "grid_gap": null,
            "grid_row": null,
            "grid_template_areas": null,
            "grid_template_columns": null,
            "grid_template_rows": null,
            "height": null,
            "justify_content": null,
            "justify_items": null,
            "left": null,
            "margin": null,
            "max_height": null,
            "max_width": null,
            "min_height": null,
            "min_width": null,
            "object_fit": null,
            "object_position": null,
            "order": null,
            "overflow": null,
            "overflow_x": null,
            "overflow_y": null,
            "padding": null,
            "right": null,
            "top": null,
            "visibility": null,
            "width": null
          }
        },
        "5ac50b564cef4358b349d6c91f9635a7": {
          "model_module": "@jupyter-widgets/controls",
          "model_name": "ProgressStyleModel",
          "model_module_version": "1.5.0",
          "state": {
            "_model_module": "@jupyter-widgets/controls",
            "_model_module_version": "1.5.0",
            "_model_name": "ProgressStyleModel",
            "_view_count": null,
            "_view_module": "@jupyter-widgets/base",
            "_view_module_version": "1.2.0",
            "_view_name": "StyleView",
            "bar_color": null,
            "description_width": ""
          }
        },
        "92d3f98da6c14571b6df3958af2924d5": {
          "model_module": "@jupyter-widgets/base",
          "model_name": "LayoutModel",
          "model_module_version": "1.2.0",
          "state": {
            "_model_module": "@jupyter-widgets/base",
            "_model_module_version": "1.2.0",
            "_model_name": "LayoutModel",
            "_view_count": null,
            "_view_module": "@jupyter-widgets/base",
            "_view_module_version": "1.2.0",
            "_view_name": "LayoutView",
            "align_content": null,
            "align_items": null,
            "align_self": null,
            "border": null,
            "bottom": null,
            "display": null,
            "flex": null,
            "flex_flow": null,
            "grid_area": null,
            "grid_auto_columns": null,
            "grid_auto_flow": null,
            "grid_auto_rows": null,
            "grid_column": null,
            "grid_gap": null,
            "grid_row": null,
            "grid_template_areas": null,
            "grid_template_columns": null,
            "grid_template_rows": null,
            "height": null,
            "justify_content": null,
            "justify_items": null,
            "left": null,
            "margin": null,
            "max_height": null,
            "max_width": null,
            "min_height": null,
            "min_width": null,
            "object_fit": null,
            "object_position": null,
            "order": null,
            "overflow": null,
            "overflow_x": null,
            "overflow_y": null,
            "padding": null,
            "right": null,
            "top": null,
            "visibility": null,
            "width": null
          }
        },
        "3763da0d7faa49ec9dc6243e3aa76b5f": {
          "model_module": "@jupyter-widgets/controls",
          "model_name": "DescriptionStyleModel",
          "model_module_version": "1.5.0",
          "state": {
            "_model_module": "@jupyter-widgets/controls",
            "_model_module_version": "1.5.0",
            "_model_name": "DescriptionStyleModel",
            "_view_count": null,
            "_view_module": "@jupyter-widgets/base",
            "_view_module_version": "1.2.0",
            "_view_name": "StyleView",
            "description_width": ""
          }
        }
      }
    }
  },
  "cells": [
    {
      "cell_type": "markdown",
      "source": [
        "**`This code shows how to use transformers to fine-tune the extractive QA model: 'ZeyadAhmed/AraElectra-Arabic-SQuADv2-QA'.`**\n",
        "\n",
        "**This code is an adaption from: https://github.com/zeyadahmed10/Arabic-MRC by Zeyad Ahmed**\n",
        "\n",
        "\n",
        "\n",
        "\n",
        "Dataset: CGSQuAD\n",
        "\n",
        "Dataset format: CSV\n",
        "\n",
        "\n",
        "* Dataset file name: CGSQuAD.csv\n",
        "* Necessary columns: title, context,\tquestion,\tanswer,\tanswer_start,\tis_impossible,\tcount,\tID,\n",
        "\n",
        "\n",
        "\n"
      ],
      "metadata": {
        "id": "g2fgE5L2vPvF"
      }
    },
    {
      "cell_type": "markdown",
      "source": [
        "#Install dependencies"
      ],
      "metadata": {
        "id": "XfoSwdpsIcuM"
      }
    },
    {
      "cell_type": "code",
      "source": [
        "!pip install transformers\n",
        "!pip install preprocess\n",
        "!pip install arabert\n",
        "!pip install datasets"
      ],
      "metadata": {
        "colab": {
          "base_uri": "https://localhost:8080/"
        },
        "id": "mD0Vez1JMYx7",
        "outputId": "9a7ed3e8-ff75-4d5f-9e11-692642d8eb12"
      },
      "execution_count": null,
      "outputs": [
        {
          "output_type": "stream",
          "name": "stdout",
          "text": [
            "Requirement already satisfied: transformers in /usr/local/lib/python3.10/dist-packages (4.31.0)\n",
            "Requirement already satisfied: filelock in /usr/local/lib/python3.10/dist-packages (from transformers) (3.12.2)\n",
            "Requirement already satisfied: huggingface-hub<1.0,>=0.14.1 in /usr/local/lib/python3.10/dist-packages (from transformers) (0.16.4)\n",
            "Requirement already satisfied: numpy>=1.17 in /usr/local/lib/python3.10/dist-packages (from transformers) (1.22.4)\n",
            "Requirement already satisfied: packaging>=20.0 in /usr/local/lib/python3.10/dist-packages (from transformers) (23.1)\n",
            "Requirement already satisfied: pyyaml>=5.1 in /usr/local/lib/python3.10/dist-packages (from transformers) (6.0.1)\n",
            "Requirement already satisfied: regex!=2019.12.17 in /usr/local/lib/python3.10/dist-packages (from transformers) (2022.10.31)\n",
            "Requirement already satisfied: requests in /usr/local/lib/python3.10/dist-packages (from transformers) (2.27.1)\n",
            "Requirement already satisfied: tokenizers!=0.11.3,<0.14,>=0.11.1 in /usr/local/lib/python3.10/dist-packages (from transformers) (0.13.3)\n",
            "Requirement already satisfied: safetensors>=0.3.1 in /usr/local/lib/python3.10/dist-packages (from transformers) (0.3.1)\n",
            "Requirement already satisfied: tqdm>=4.27 in /usr/local/lib/python3.10/dist-packages (from transformers) (4.65.0)\n",
            "Requirement already satisfied: fsspec in /usr/local/lib/python3.10/dist-packages (from huggingface-hub<1.0,>=0.14.1->transformers) (2023.6.0)\n",
            "Requirement already satisfied: typing-extensions>=3.7.4.3 in /usr/local/lib/python3.10/dist-packages (from huggingface-hub<1.0,>=0.14.1->transformers) (4.7.1)\n",
            "Requirement already satisfied: urllib3<1.27,>=1.21.1 in /usr/local/lib/python3.10/dist-packages (from requests->transformers) (1.26.16)\n",
            "Requirement already satisfied: certifi>=2017.4.17 in /usr/local/lib/python3.10/dist-packages (from requests->transformers) (2023.7.22)\n",
            "Requirement already satisfied: charset-normalizer~=2.0.0 in /usr/local/lib/python3.10/dist-packages (from requests->transformers) (2.0.12)\n",
            "Requirement already satisfied: idna<4,>=2.5 in /usr/local/lib/python3.10/dist-packages (from requests->transformers) (3.4)\n",
            "Requirement already satisfied: preprocess in /usr/local/lib/python3.10/dist-packages (2.0.0)\n",
            "Requirement already satisfied: future in /usr/local/lib/python3.10/dist-packages (from preprocess) (0.18.3)\n",
            "Requirement already satisfied: arabert in /usr/local/lib/python3.10/dist-packages (1.0.1)\n",
            "Requirement already satisfied: PyArabic in /usr/local/lib/python3.10/dist-packages (from arabert) (0.6.15)\n",
            "Requirement already satisfied: farasapy in /usr/local/lib/python3.10/dist-packages (from arabert) (0.0.14)\n",
            "Requirement already satisfied: emoji==1.4.2 in /usr/local/lib/python3.10/dist-packages (from arabert) (1.4.2)\n",
            "Requirement already satisfied: requests in /usr/local/lib/python3.10/dist-packages (from farasapy->arabert) (2.27.1)\n",
            "Requirement already satisfied: tqdm in /usr/local/lib/python3.10/dist-packages (from farasapy->arabert) (4.65.0)\n",
            "Requirement already satisfied: six>=1.14.0 in /usr/local/lib/python3.10/dist-packages (from PyArabic->arabert) (1.16.0)\n",
            "Requirement already satisfied: urllib3<1.27,>=1.21.1 in /usr/local/lib/python3.10/dist-packages (from requests->farasapy->arabert) (1.26.16)\n",
            "Requirement already satisfied: certifi>=2017.4.17 in /usr/local/lib/python3.10/dist-packages (from requests->farasapy->arabert) (2023.7.22)\n",
            "Requirement already satisfied: charset-normalizer~=2.0.0 in /usr/local/lib/python3.10/dist-packages (from requests->farasapy->arabert) (2.0.12)\n",
            "Requirement already satisfied: idna<4,>=2.5 in /usr/local/lib/python3.10/dist-packages (from requests->farasapy->arabert) (3.4)\n",
            "Requirement already satisfied: datasets in /usr/local/lib/python3.10/dist-packages (2.14.3)\n",
            "Requirement already satisfied: numpy>=1.17 in /usr/local/lib/python3.10/dist-packages (from datasets) (1.22.4)\n",
            "Requirement already satisfied: pyarrow>=8.0.0 in /usr/local/lib/python3.10/dist-packages (from datasets) (9.0.0)\n",
            "Requirement already satisfied: dill<0.3.8,>=0.3.0 in /usr/local/lib/python3.10/dist-packages (from datasets) (0.3.7)\n",
            "Requirement already satisfied: pandas in /usr/local/lib/python3.10/dist-packages (from datasets) (1.5.3)\n",
            "Requirement already satisfied: requests>=2.19.0 in /usr/local/lib/python3.10/dist-packages (from datasets) (2.27.1)\n",
            "Requirement already satisfied: tqdm>=4.62.1 in /usr/local/lib/python3.10/dist-packages (from datasets) (4.65.0)\n",
            "Requirement already satisfied: xxhash in /usr/local/lib/python3.10/dist-packages (from datasets) (3.3.0)\n",
            "Requirement already satisfied: multiprocess in /usr/local/lib/python3.10/dist-packages (from datasets) (0.70.15)\n",
            "Requirement already satisfied: fsspec[http]>=2021.11.1 in /usr/local/lib/python3.10/dist-packages (from datasets) (2023.6.0)\n",
            "Requirement already satisfied: aiohttp in /usr/local/lib/python3.10/dist-packages (from datasets) (3.8.5)\n",
            "Requirement already satisfied: huggingface-hub<1.0.0,>=0.14.0 in /usr/local/lib/python3.10/dist-packages (from datasets) (0.16.4)\n",
            "Requirement already satisfied: packaging in /usr/local/lib/python3.10/dist-packages (from datasets) (23.1)\n",
            "Requirement already satisfied: pyyaml>=5.1 in /usr/local/lib/python3.10/dist-packages (from datasets) (6.0.1)\n",
            "Requirement already satisfied: attrs>=17.3.0 in /usr/local/lib/python3.10/dist-packages (from aiohttp->datasets) (23.1.0)\n",
            "Requirement already satisfied: charset-normalizer<4.0,>=2.0 in /usr/local/lib/python3.10/dist-packages (from aiohttp->datasets) (2.0.12)\n",
            "Requirement already satisfied: multidict<7.0,>=4.5 in /usr/local/lib/python3.10/dist-packages (from aiohttp->datasets) (6.0.4)\n",
            "Requirement already satisfied: async-timeout<5.0,>=4.0.0a3 in /usr/local/lib/python3.10/dist-packages (from aiohttp->datasets) (4.0.2)\n",
            "Requirement already satisfied: yarl<2.0,>=1.0 in /usr/local/lib/python3.10/dist-packages (from aiohttp->datasets) (1.9.2)\n",
            "Requirement already satisfied: frozenlist>=1.1.1 in /usr/local/lib/python3.10/dist-packages (from aiohttp->datasets) (1.4.0)\n",
            "Requirement already satisfied: aiosignal>=1.1.2 in /usr/local/lib/python3.10/dist-packages (from aiohttp->datasets) (1.3.1)\n",
            "Requirement already satisfied: filelock in /usr/local/lib/python3.10/dist-packages (from huggingface-hub<1.0.0,>=0.14.0->datasets) (3.12.2)\n",
            "Requirement already satisfied: typing-extensions>=3.7.4.3 in /usr/local/lib/python3.10/dist-packages (from huggingface-hub<1.0.0,>=0.14.0->datasets) (4.7.1)\n",
            "Requirement already satisfied: urllib3<1.27,>=1.21.1 in /usr/local/lib/python3.10/dist-packages (from requests>=2.19.0->datasets) (1.26.16)\n",
            "Requirement already satisfied: certifi>=2017.4.17 in /usr/local/lib/python3.10/dist-packages (from requests>=2.19.0->datasets) (2023.7.22)\n",
            "Requirement already satisfied: idna<4,>=2.5 in /usr/local/lib/python3.10/dist-packages (from requests>=2.19.0->datasets) (3.4)\n",
            "Requirement already satisfied: python-dateutil>=2.8.1 in /usr/local/lib/python3.10/dist-packages (from pandas->datasets) (2.8.2)\n",
            "Requirement already satisfied: pytz>=2020.1 in /usr/local/lib/python3.10/dist-packages (from pandas->datasets) (2022.7.1)\n",
            "Requirement already satisfied: six>=1.5 in /usr/local/lib/python3.10/dist-packages (from python-dateutil>=2.8.1->pandas->datasets) (1.16.0)\n"
          ]
        }
      ]
    },
    {
      "cell_type": "code",
      "source": [
        "#!rm -r Arabic-MRC\n",
        "!git clone https://github.com/SubaieiFatemah/Arabic-MRC/"
      ],
      "metadata": {
        "id": "hvYiCuKQyjFe",
        "colab": {
          "base_uri": "https://localhost:8080/"
        },
        "outputId": "a438ee01-f45e-45d2-8c57-fad5da4e7129"
      },
      "execution_count": null,
      "outputs": [
        {
          "output_type": "stream",
          "name": "stdout",
          "text": [
            "fatal: destination path 'Arabic-MRC' already exists and is not an empty directory.\n"
          ]
        }
      ]
    },
    {
      "cell_type": "markdown",
      "source": [
        "#Apply dataset script on CGSQuAD"
      ],
      "metadata": {
        "id": "5EHDXGMxGHpS"
      }
    },
    {
      "cell_type": "code",
      "source": [
        "from arabert.preprocess import ArabertPreprocessor\n",
        "import pandas as pd\n",
        "data = pd.read_csv('/content/CGSQuAD.csv')\n",
        "data"
      ],
      "metadata": {
        "colab": {
          "base_uri": "https://localhost:8080/"
        },
        "id": "wkKryTgpz2-E",
        "outputId": "c4e9546c-6c51-46db-9447-cdaba510bd5e"
      },
      "execution_count": null,
      "outputs": [
        {
          "output_type": "execute_result",
          "data": {
            "text/plain": [
              "                           title  \\\n",
              "0     تنظيم كلية الدراسات العليا   \n",
              "1     تنظيم كلية الدراسات العليا   \n",
              "2     تنظيم كلية الدراسات العليا   \n",
              "3     تنظيم كلية الدراسات العليا   \n",
              "4     تنظيم كلية الدراسات العليا   \n",
              "...                          ...   \n",
              "1499                 أسئلة شائعة   \n",
              "1500                 أسئلة شائعة   \n",
              "1501                 أسئلة شائعة   \n",
              "1502                 أسئلة شائعة   \n",
              "1503                 أسئلة شائعة   \n",
              "\n",
              "                                                context  \\\n",
              "0     رسالة كلية الدراسات العليا هي العمل المخطط اله...   \n",
              "1     رسالة كلية الدراسات العليا هي العمل المخطط اله...   \n",
              "2     رسالة كلية الدراسات العليا هي العمل المخطط اله...   \n",
              "3     رسالة كلية الدراسات العليا هي العمل المخطط اله...   \n",
              "4     رسالة كلية الدراسات العليا هي العمل المخطط اله...   \n",
              "...                                                 ...   \n",
              "1499  يكون موعد التقديم على كلية الدراسات العليا عاد...   \n",
              "1500  يكون موعد التقديم على كلية الدراسات العليا عاد...   \n",
              "1501  يكون موعد التقديم على كلية الدراسات العليا عاد...   \n",
              "1502  يكون موعد التقديم على كلية الدراسات العليا عاد...   \n",
              "1503  يكون موعد التقديم على كلية الدراسات العليا عاد...   \n",
              "\n",
              "                                question  \\\n",
              "0      ما هي رسالة كلية الدراسات العليا؟   \n",
              "1       ما هي غاية كلية الدراسات العليا؟   \n",
              "2      ما هي أهداف كلية الدراسات العليا؟   \n",
              "3       ما هي مهام كلية الدراسات العليا؟   \n",
              "4     ما هي واجبات كلية الدراسات العليا؟   \n",
              "...                                  ...   \n",
              "1499                 ما هو عنوان البريد؟   \n",
              "1500              ما هو العنوان البريدي؟   \n",
              "1501                ما هو الرمز البريدي؟   \n",
              "1502              ما معنى الرمز البريدي؟   \n",
              "1503             أين يوجد الرمز البريدي؟   \n",
              "\n",
              "                                                 answer  answer_start  \\\n",
              "0     العمل المخطط الهادف الى المساهمة في تنمية إمكا...            30   \n",
              "1                                       اتاحة فرص تعليم           159   \n",
              "2                                       اتاحة فرص تعليم           159   \n",
              "3       الموافقة على برامج الدراسات العليا ووضع الأنظمة           278   \n",
              "4       الموافقة على برامج الدراسات العليا ووضع الأنظمة           278   \n",
              "...                                                 ...           ...   \n",
              "1499            اسم المنطقة التي يتواجد بها مكتب البريد         12310   \n",
              "1500            اسم المنطقة التي يتواجد بها مكتب البريد         12310   \n",
              "1501                      رقم خاص يرمز الى بريد المنطقة         12368   \n",
              "1502                      رقم خاص يرمز الى بريد المنطقة         12368   \n",
              "1503                                 ويوجد على الانترنت         12398   \n",
              "\n",
              "      is_impossible  count                        ID  \n",
              "0             False      1  56be85543aeaaa14008c9063  \n",
              "1             False      2  56be85543aeaaa14008c9065  \n",
              "2             False      3  56be85543aeaaa14008c9066  \n",
              "3             False      4  56bf6b0f3aeaaa14008c9601  \n",
              "4             False      5  56bf6b0f3aeaaa14008c9602  \n",
              "...             ...    ...                       ...  \n",
              "1499          False   1500  56cc5fd66d243a140015ef53  \n",
              "1500          False   1501  56cc5fd66d243a140015ef54  \n",
              "1501          False   1502  56cccb3c62d2951400fa64be  \n",
              "1502          False   1503  56cccb3c62d2951400fa64bf  \n",
              "1503          False   1504  56cccb3c62d2951400fa64c0  \n",
              "\n",
              "[1504 rows x 8 columns]"
            ],
            "text/html": [
              "\n",
              "\n",
              "  <div id=\"df-db10c688-0c7a-443b-9db6-8b937bc6e41a\">\n",
              "    <div class=\"colab-df-container\">\n",
              "      <div>\n",
              "<style scoped>\n",
              "    .dataframe tbody tr th:only-of-type {\n",
              "        vertical-align: middle;\n",
              "    }\n",
              "\n",
              "    .dataframe tbody tr th {\n",
              "        vertical-align: top;\n",
              "    }\n",
              "\n",
              "    .dataframe thead th {\n",
              "        text-align: right;\n",
              "    }\n",
              "</style>\n",
              "<table border=\"1\" class=\"dataframe\">\n",
              "  <thead>\n",
              "    <tr style=\"text-align: right;\">\n",
              "      <th></th>\n",
              "      <th>title</th>\n",
              "      <th>context</th>\n",
              "      <th>question</th>\n",
              "      <th>answer</th>\n",
              "      <th>answer_start</th>\n",
              "      <th>is_impossible</th>\n",
              "      <th>count</th>\n",
              "      <th>ID</th>\n",
              "    </tr>\n",
              "  </thead>\n",
              "  <tbody>\n",
              "    <tr>\n",
              "      <th>0</th>\n",
              "      <td>تنظيم كلية الدراسات العليا</td>\n",
              "      <td>رسالة كلية الدراسات العليا هي العمل المخطط اله...</td>\n",
              "      <td>ما هي رسالة كلية الدراسات العليا؟</td>\n",
              "      <td>العمل المخطط الهادف الى المساهمة في تنمية إمكا...</td>\n",
              "      <td>30</td>\n",
              "      <td>False</td>\n",
              "      <td>1</td>\n",
              "      <td>56be85543aeaaa14008c9063</td>\n",
              "    </tr>\n",
              "    <tr>\n",
              "      <th>1</th>\n",
              "      <td>تنظيم كلية الدراسات العليا</td>\n",
              "      <td>رسالة كلية الدراسات العليا هي العمل المخطط اله...</td>\n",
              "      <td>ما هي غاية كلية الدراسات العليا؟</td>\n",
              "      <td>اتاحة فرص تعليم</td>\n",
              "      <td>159</td>\n",
              "      <td>False</td>\n",
              "      <td>2</td>\n",
              "      <td>56be85543aeaaa14008c9065</td>\n",
              "    </tr>\n",
              "    <tr>\n",
              "      <th>2</th>\n",
              "      <td>تنظيم كلية الدراسات العليا</td>\n",
              "      <td>رسالة كلية الدراسات العليا هي العمل المخطط اله...</td>\n",
              "      <td>ما هي أهداف كلية الدراسات العليا؟</td>\n",
              "      <td>اتاحة فرص تعليم</td>\n",
              "      <td>159</td>\n",
              "      <td>False</td>\n",
              "      <td>3</td>\n",
              "      <td>56be85543aeaaa14008c9066</td>\n",
              "    </tr>\n",
              "    <tr>\n",
              "      <th>3</th>\n",
              "      <td>تنظيم كلية الدراسات العليا</td>\n",
              "      <td>رسالة كلية الدراسات العليا هي العمل المخطط اله...</td>\n",
              "      <td>ما هي مهام كلية الدراسات العليا؟</td>\n",
              "      <td>الموافقة على برامج الدراسات العليا ووضع الأنظمة</td>\n",
              "      <td>278</td>\n",
              "      <td>False</td>\n",
              "      <td>4</td>\n",
              "      <td>56bf6b0f3aeaaa14008c9601</td>\n",
              "    </tr>\n",
              "    <tr>\n",
              "      <th>4</th>\n",
              "      <td>تنظيم كلية الدراسات العليا</td>\n",
              "      <td>رسالة كلية الدراسات العليا هي العمل المخطط اله...</td>\n",
              "      <td>ما هي واجبات كلية الدراسات العليا؟</td>\n",
              "      <td>الموافقة على برامج الدراسات العليا ووضع الأنظمة</td>\n",
              "      <td>278</td>\n",
              "      <td>False</td>\n",
              "      <td>5</td>\n",
              "      <td>56bf6b0f3aeaaa14008c9602</td>\n",
              "    </tr>\n",
              "    <tr>\n",
              "      <th>...</th>\n",
              "      <td>...</td>\n",
              "      <td>...</td>\n",
              "      <td>...</td>\n",
              "      <td>...</td>\n",
              "      <td>...</td>\n",
              "      <td>...</td>\n",
              "      <td>...</td>\n",
              "      <td>...</td>\n",
              "    </tr>\n",
              "    <tr>\n",
              "      <th>1499</th>\n",
              "      <td>أسئلة شائعة</td>\n",
              "      <td>يكون موعد التقديم على كلية الدراسات العليا عاد...</td>\n",
              "      <td>ما هو عنوان البريد؟</td>\n",
              "      <td>اسم المنطقة التي يتواجد بها مكتب البريد</td>\n",
              "      <td>12310</td>\n",
              "      <td>False</td>\n",
              "      <td>1500</td>\n",
              "      <td>56cc5fd66d243a140015ef53</td>\n",
              "    </tr>\n",
              "    <tr>\n",
              "      <th>1500</th>\n",
              "      <td>أسئلة شائعة</td>\n",
              "      <td>يكون موعد التقديم على كلية الدراسات العليا عاد...</td>\n",
              "      <td>ما هو العنوان البريدي؟</td>\n",
              "      <td>اسم المنطقة التي يتواجد بها مكتب البريد</td>\n",
              "      <td>12310</td>\n",
              "      <td>False</td>\n",
              "      <td>1501</td>\n",
              "      <td>56cc5fd66d243a140015ef54</td>\n",
              "    </tr>\n",
              "    <tr>\n",
              "      <th>1501</th>\n",
              "      <td>أسئلة شائعة</td>\n",
              "      <td>يكون موعد التقديم على كلية الدراسات العليا عاد...</td>\n",
              "      <td>ما هو الرمز البريدي؟</td>\n",
              "      <td>رقم خاص يرمز الى بريد المنطقة</td>\n",
              "      <td>12368</td>\n",
              "      <td>False</td>\n",
              "      <td>1502</td>\n",
              "      <td>56cccb3c62d2951400fa64be</td>\n",
              "    </tr>\n",
              "    <tr>\n",
              "      <th>1502</th>\n",
              "      <td>أسئلة شائعة</td>\n",
              "      <td>يكون موعد التقديم على كلية الدراسات العليا عاد...</td>\n",
              "      <td>ما معنى الرمز البريدي؟</td>\n",
              "      <td>رقم خاص يرمز الى بريد المنطقة</td>\n",
              "      <td>12368</td>\n",
              "      <td>False</td>\n",
              "      <td>1503</td>\n",
              "      <td>56cccb3c62d2951400fa64bf</td>\n",
              "    </tr>\n",
              "    <tr>\n",
              "      <th>1503</th>\n",
              "      <td>أسئلة شائعة</td>\n",
              "      <td>يكون موعد التقديم على كلية الدراسات العليا عاد...</td>\n",
              "      <td>أين يوجد الرمز البريدي؟</td>\n",
              "      <td>ويوجد على الانترنت</td>\n",
              "      <td>12398</td>\n",
              "      <td>False</td>\n",
              "      <td>1504</td>\n",
              "      <td>56cccb3c62d2951400fa64c0</td>\n",
              "    </tr>\n",
              "  </tbody>\n",
              "</table>\n",
              "<p>1504 rows × 8 columns</p>\n",
              "</div>\n",
              "      <button class=\"colab-df-convert\" onclick=\"convertToInteractive('df-db10c688-0c7a-443b-9db6-8b937bc6e41a')\"\n",
              "              title=\"Convert this dataframe to an interactive table.\"\n",
              "              style=\"display:none;\">\n",
              "\n",
              "  <svg xmlns=\"http://www.w3.org/2000/svg\" height=\"24px\"viewBox=\"0 0 24 24\"\n",
              "       width=\"24px\">\n",
              "    <path d=\"M0 0h24v24H0V0z\" fill=\"none\"/>\n",
              "    <path d=\"M18.56 5.44l.94 2.06.94-2.06 2.06-.94-2.06-.94-.94-2.06-.94 2.06-2.06.94zm-11 1L8.5 8.5l.94-2.06 2.06-.94-2.06-.94L8.5 2.5l-.94 2.06-2.06.94zm10 10l.94 2.06.94-2.06 2.06-.94-2.06-.94-.94-2.06-.94 2.06-2.06.94z\"/><path d=\"M17.41 7.96l-1.37-1.37c-.4-.4-.92-.59-1.43-.59-.52 0-1.04.2-1.43.59L10.3 9.45l-7.72 7.72c-.78.78-.78 2.05 0 2.83L4 21.41c.39.39.9.59 1.41.59.51 0 1.02-.2 1.41-.59l7.78-7.78 2.81-2.81c.8-.78.8-2.07 0-2.86zM5.41 20L4 18.59l7.72-7.72 1.47 1.35L5.41 20z\"/>\n",
              "  </svg>\n",
              "      </button>\n",
              "\n",
              "\n",
              "\n",
              "    <div id=\"df-112421c4-0de9-487a-8b4a-21b43356dc63\">\n",
              "      <button class=\"colab-df-quickchart\" onclick=\"quickchart('df-112421c4-0de9-487a-8b4a-21b43356dc63')\"\n",
              "              title=\"Suggest charts.\"\n",
              "              style=\"display:none;\">\n",
              "\n",
              "<svg xmlns=\"http://www.w3.org/2000/svg\" height=\"24px\"viewBox=\"0 0 24 24\"\n",
              "     width=\"24px\">\n",
              "    <g>\n",
              "        <path d=\"M19 3H5c-1.1 0-2 .9-2 2v14c0 1.1.9 2 2 2h14c1.1 0 2-.9 2-2V5c0-1.1-.9-2-2-2zM9 17H7v-7h2v7zm4 0h-2V7h2v10zm4 0h-2v-4h2v4z\"/>\n",
              "    </g>\n",
              "</svg>\n",
              "      </button>\n",
              "    </div>\n",
              "\n",
              "<style>\n",
              "  .colab-df-quickchart {\n",
              "    background-color: #E8F0FE;\n",
              "    border: none;\n",
              "    border-radius: 50%;\n",
              "    cursor: pointer;\n",
              "    display: none;\n",
              "    fill: #1967D2;\n",
              "    height: 32px;\n",
              "    padding: 0 0 0 0;\n",
              "    width: 32px;\n",
              "  }\n",
              "\n",
              "  .colab-df-quickchart:hover {\n",
              "    background-color: #E2EBFA;\n",
              "    box-shadow: 0px 1px 2px rgba(60, 64, 67, 0.3), 0px 1px 3px 1px rgba(60, 64, 67, 0.15);\n",
              "    fill: #174EA6;\n",
              "  }\n",
              "\n",
              "  [theme=dark] .colab-df-quickchart {\n",
              "    background-color: #3B4455;\n",
              "    fill: #D2E3FC;\n",
              "  }\n",
              "\n",
              "  [theme=dark] .colab-df-quickchart:hover {\n",
              "    background-color: #434B5C;\n",
              "    box-shadow: 0px 1px 3px 1px rgba(0, 0, 0, 0.15);\n",
              "    filter: drop-shadow(0px 1px 2px rgba(0, 0, 0, 0.3));\n",
              "    fill: #FFFFFF;\n",
              "  }\n",
              "</style>\n",
              "\n",
              "    <script>\n",
              "      async function quickchart(key) {\n",
              "        const containerElement = document.querySelector('#' + key);\n",
              "        const charts = await google.colab.kernel.invokeFunction(\n",
              "            'suggestCharts', [key], {});\n",
              "      }\n",
              "    </script>\n",
              "\n",
              "      <script>\n",
              "\n",
              "function displayQuickchartButton(domScope) {\n",
              "  let quickchartButtonEl =\n",
              "    domScope.querySelector('#df-112421c4-0de9-487a-8b4a-21b43356dc63 button.colab-df-quickchart');\n",
              "  quickchartButtonEl.style.display =\n",
              "    google.colab.kernel.accessAllowed ? 'block' : 'none';\n",
              "}\n",
              "\n",
              "        displayQuickchartButton(document);\n",
              "      </script>\n",
              "      <style>\n",
              "    .colab-df-container {\n",
              "      display:flex;\n",
              "      flex-wrap:wrap;\n",
              "      gap: 12px;\n",
              "    }\n",
              "\n",
              "    .colab-df-convert {\n",
              "      background-color: #E8F0FE;\n",
              "      border: none;\n",
              "      border-radius: 50%;\n",
              "      cursor: pointer;\n",
              "      display: none;\n",
              "      fill: #1967D2;\n",
              "      height: 32px;\n",
              "      padding: 0 0 0 0;\n",
              "      width: 32px;\n",
              "    }\n",
              "\n",
              "    .colab-df-convert:hover {\n",
              "      background-color: #E2EBFA;\n",
              "      box-shadow: 0px 1px 2px rgba(60, 64, 67, 0.3), 0px 1px 3px 1px rgba(60, 64, 67, 0.15);\n",
              "      fill: #174EA6;\n",
              "    }\n",
              "\n",
              "    [theme=dark] .colab-df-convert {\n",
              "      background-color: #3B4455;\n",
              "      fill: #D2E3FC;\n",
              "    }\n",
              "\n",
              "    [theme=dark] .colab-df-convert:hover {\n",
              "      background-color: #434B5C;\n",
              "      box-shadow: 0px 1px 3px 1px rgba(0, 0, 0, 0.15);\n",
              "      filter: drop-shadow(0px 1px 2px rgba(0, 0, 0, 0.3));\n",
              "      fill: #FFFFFF;\n",
              "    }\n",
              "  </style>\n",
              "\n",
              "      <script>\n",
              "        const buttonEl =\n",
              "          document.querySelector('#df-db10c688-0c7a-443b-9db6-8b937bc6e41a button.colab-df-convert');\n",
              "        buttonEl.style.display =\n",
              "          google.colab.kernel.accessAllowed ? 'block' : 'none';\n",
              "\n",
              "        async function convertToInteractive(key) {\n",
              "          const element = document.querySelector('#df-db10c688-0c7a-443b-9db6-8b937bc6e41a');\n",
              "          const dataTable =\n",
              "            await google.colab.kernel.invokeFunction('convertToInteractive',\n",
              "                                                     [key], {});\n",
              "          if (!dataTable) return;\n",
              "\n",
              "          const docLinkHtml = 'Like what you see? Visit the ' +\n",
              "            '<a target=\"_blank\" href=https://colab.research.google.com/notebooks/data_table.ipynb>data table notebook</a>'\n",
              "            + ' to learn more about interactive tables.';\n",
              "          element.innerHTML = '';\n",
              "          dataTable['output_type'] = 'display_data';\n",
              "          await google.colab.output.renderOutput(dataTable, element);\n",
              "          const docLink = document.createElement('div');\n",
              "          docLink.innerHTML = docLinkHtml;\n",
              "          element.appendChild(docLink);\n",
              "        }\n",
              "      </script>\n",
              "    </div>\n",
              "  </div>\n"
            ]
          },
          "metadata": {},
          "execution_count": 5
        }
      ]
    },
    {
      "cell_type": "markdown",
      "source": [
        "Update the context by selecting the answer and n sentences before and after it."
      ],
      "metadata": {
        "id": "4veSihWGa60k"
      }
    },
    {
      "cell_type": "code",
      "source": [
        "import pandas as pd\n",
        "import re\n",
        "import heapq\n",
        "import nltk\n",
        "from nltk.tokenize import sent_tokenize, word_tokenize\n",
        "nltk.download('punkt')\n",
        "\n",
        "def extract_relevant_sentences(text, answer, answer_start, n_sentences=5):\n",
        "    sentences = text.split('. ')#'. ' as a sentence slicer\n",
        "\n",
        "    answer_start = answer_start#get answer location\n",
        "    answer_end = answer_start + len(answer)\n",
        "\n",
        "    start_index = 0#identify start and end of relevant context\n",
        "    end_index = len(sentences)\n",
        "\n",
        "    for i, sentence in enumerate(sentences):\n",
        "        if sentence.lower().find(answer.lower()) != -1:\n",
        "            counter = 1\n",
        "            while i - counter >= 0 and counter <= n_sentences:#get n sentences from right and left\n",
        "                start_index = i - counter\n",
        "                counter += 1\n",
        "\n",
        "            counter = 1\n",
        "            while i + counter < len(sentences) and counter <= n_sentences:\n",
        "                end_index = i + counter + 1\n",
        "                counter += 1\n",
        "            break\n",
        "\n",
        "    new_context = '. '.join(sentences[start_index:end_index])#construct the relevant context out of the extracted sentences\n",
        "\n",
        "    if not new_context.endswith('.'):#add a period at the last sentence\n",
        "        new_context += '.'\n",
        "\n",
        "    return new_context\n",
        "\n",
        "data['context'] = data.apply(lambda row: extract_relevant_sentences(row['context'], row['answer'], row['answer_start']), axis=1)#for each context, call the function\n",
        "data.to_csv(\"modified_csv_file.csv\", index=False)"
      ],
      "metadata": {
        "colab": {
          "base_uri": "https://localhost:8080/"
        },
        "id": "SER7-VIv1oOy",
        "outputId": "46383842-a642-4dde-a26a-44692f4329d1"
      },
      "execution_count": null,
      "outputs": [
        {
          "output_type": "stream",
          "name": "stderr",
          "text": [
            "[nltk_data] Downloading package punkt to /root/nltk_data...\n",
            "[nltk_data]   Unzipping tokenizers/punkt.zip.\n"
          ]
        }
      ]
    },
    {
      "cell_type": "code",
      "source": [
        "data['context'][1000]"
      ],
      "metadata": {
        "colab": {
          "base_uri": "https://localhost:8080/"
        },
        "id": "uaPJ5EWnnJqP",
        "outputId": "7f17def5-2b30-49c6-e4a3-ae56e7df0896"
      },
      "execution_count": null,
      "outputs": [
        {
          "output_type": "execute_result",
          "data": {
            "text/plain": [
              "'اسكان طلبة الدراسات العليا دون مقابل او رسوم. شروط اسكان طلبة الدراسات العليا ان يكون الطالب مسجلا بدوام كامل ولا تقيم اسرته في الكويت. نعم يجوز اسكان طلبة الدراسات العليا ممن تقيم اسرهم داخل الكويت في ضوء دراسة حالتهم الاجتماعية. شروط حضور المهمات العلمية لطالب الدراسات العليا ان يكون مسجلا ومستمرا كطالب نظامي بدوام كامل وان لا يقل معدله المتوسط عن 3.5 نقاط وقد اجتاز 15 وحدة دراسية على الاقل وبتوصية من مشرفه. عدد المهمات العلمية التي يستطيع الطالب حضورها هي مهمة واحدة فقط خلال مدة دراسته. نفقات المهمة العلمية هي نفقات الاشتراك وتذاكر سفر على الدرجة السياحية وبدل سفر يومي قدره 30 دينار كويتي. تسري احكام اللائحة اعتبارا من الفصل الاول للعام الجامعي التالي لاعتمادها من مجلس الجامعة. قيمة اشراف ومناقشة المشرف على المشروع هي 100 دينار كويتي للاشراف و100 دينار كويتي للمناقشة. قيمة مناقشة رئيس اللجنة على المشروع هي 100 دينار كويتي. قيمة مناقشة المناقش على المشروع هي 100 دينار كويتي. قيمة مكافأة اشراف ومناقشة المشرف الرئيس على الاطروحة هي 400 دينار كويتي للاشراف و100 دينار كويتي للمناقشة.'"
            ],
            "application/vnd.google.colaboratory.intrinsic+json": {
              "type": "string"
            }
          },
          "metadata": {},
          "execution_count": 7
        }
      ]
    },
    {
      "cell_type": "code",
      "source": [
        "#/content/CGSQuAD.csv is splitted into /content/cgsqa-train.json /content/cgsqa-val.json /content/cgsqa-test.json\n",
        "!python /content/Arabic-MRC/Translator/translation2dataset.py /content/modified_csv_file.csv"
      ],
      "metadata": {
        "colab": {
          "base_uri": "https://localhost:8080/"
        },
        "id": "_qV99sGp4eWC",
        "outputId": "66283c55-5af0-4d2f-da03-ba747852571e"
      },
      "execution_count": null,
      "outputs": [
        {
          "output_type": "stream",
          "name": "stdout",
          "text": [
            "(1504, 8)\n",
            "Index(['title', 'context', 'question', 'answer', 'answer_start',\n",
            "       'is_impossible', 'count', 'ID'],\n",
            "      dtype='object')\n",
            "(1052, 8) (226, 8) (226, 8)\n"
          ]
        }
      ]
    },
    {
      "cell_type": "markdown",
      "source": [
        "#Preprocess CGSQuAD"
      ],
      "metadata": {
        "id": "ANtllpIzN8mR"
      }
    },
    {
      "cell_type": "code",
      "source": [
        "import os\n",
        "import shutil\n",
        "from collections import Counter\n",
        "import numpy as np\n",
        "import json\n",
        "import torch\n",
        "import torch.nn as nn\n",
        "import torch.nn.functional as F\n",
        "from transformers import AutoTokenizer, ElectraForQuestionAnswering, DataCollatorWithPadding,BertModel, ElectraForSequenceClassification, ElectraModel\n",
        "from arabert.preprocess import ArabertPreprocessor\n",
        "import matplotlib.pyplot as plt\n",
        "import seaborn as sns\n",
        "import csv\n",
        "torch.manual_seed(3407)"
      ],
      "metadata": {
        "colab": {
          "base_uri": "https://localhost:8080/"
        },
        "outputId": "f321e83a-aa41-4308-f05d-c0c10e6bf170",
        "id": "LSnbR3geN8mR"
      },
      "execution_count": null,
      "outputs": [
        {
          "output_type": "execute_result",
          "data": {
            "text/plain": [
              "<torch._C.Generator at 0x7c5950f1aeb0>"
            ]
          },
          "metadata": {},
          "execution_count": 9
        }
      ]
    },
    {
      "cell_type": "code",
      "source": [
        "def add_end_index(answer, context):\n",
        "  # 1 if span match the context 0 otherwise\n",
        "  text = answer['text']\n",
        "  start_idx = answer['answer_start']\n",
        "  end_idx = start_idx + len(text)\n",
        "  answer['answer_end'] = end_idx\n",
        "  if text == context[start_idx:end_idx]:\n",
        "    answer['answer_end'] = end_idx\n",
        "    return False\n",
        "  for i in range(1,3):\n",
        "    if text == context[start_idx-i:end_idx-i]:\n",
        "      answer['answer_end']= end_idx-1#not -i?\n",
        "      answer['answer_start'] = start_idx-1\n",
        "      return False\n",
        "  return True"
      ],
      "metadata": {
        "id": "3b_4DjjYN8mS"
      },
      "execution_count": null,
      "outputs": []
    },
    {
      "cell_type": "code",
      "source": [
        "def arabert_preprocess(context,question, answer, arabert_prep):\n",
        "    answer['text'] = arabert_prep.preprocess(answer['text'])\n",
        "    context = arabert_prep.preprocess(context)\n",
        "    question = arabert_prep.preprocess(question)\n",
        "    res = context.find(answer['text'])\n",
        "    if res !=-1:\n",
        "        answer['answer_start'] = res\n",
        "    return context, question, answer, res"
      ],
      "metadata": {
        "id": "mzvMGYDmN8mS"
      },
      "execution_count": null,
      "outputs": []
    },
    {
      "cell_type": "code",
      "source": [
        "def Read_Dataset(path,arabert_prep):\n",
        "  contexts =[]\n",
        "  answers =[]\n",
        "  questions =[]\n",
        "  IDs= []\n",
        "  cnt = 0\n",
        "  with open(path) as f:\n",
        "    my_dict = json.load(f)\n",
        "    for article in my_dict['data']:\n",
        "      for passage in article['paragraphs']:\n",
        "        context = passage['context']\n",
        "        for qa in passage['qas']:\n",
        "          question = qa['question']\n",
        "          access = 'answers'\n",
        "          for answer in qa[access]:\n",
        "            context,question, answer, res =  arabert_preprocess(context,question, answer, arabert_prep)\n",
        "            flag = add_end_index(answer, context) #if false dont add\n",
        "            cnt =cnt + flag\n",
        "            flag = False\n",
        "            if not flag:\n",
        "              contexts.append(context)\n",
        "              answers.append(answer)\n",
        "              questions.append(question)\n",
        "              IDs.append(int(qa['id']))\n",
        "  return contexts,questions,answers,IDs"
      ],
      "metadata": {
        "id": "4kfx6xUwN8mS"
      },
      "execution_count": null,
      "outputs": []
    },
    {
      "cell_type": "code",
      "source": [
        "model_name = \"araelectra-base-discriminator\"\n",
        "arabert_prep = ArabertPreprocessor(model_name=model_name)#custom class\n",
        "cgsqa_span_train_contexts, cgsqa_span_train_questions, cgsqa_span_train_answers, cgsqa_span_train_ids = Read_Dataset('/content/cgsqa-train.json', arabert_prep)\n",
        "cgsqa_val_contexts, cgsqa_val_questions, cgsqa_val_answers, cgsqa_val_ids = Read_Dataset('/content/cgsqa-val.json', arabert_prep)\n",
        "cgsqa_test_contexts, cgsqa_test_questions, cgsqa_test_answers, cgsqa_test_ids = Read_Dataset('/content/cgsqa-test.json', arabert_prep)"
      ],
      "metadata": {
        "id": "_avBIDv4N8mS"
      },
      "execution_count": null,
      "outputs": []
    },
    {
      "cell_type": "code",
      "source": [
        "len(cgsqa_test_answers)+len(cgsqa_span_train_answers)+len(cgsqa_val_answers)"
      ],
      "metadata": {
        "colab": {
          "base_uri": "https://localhost:8080/"
        },
        "outputId": "5bd63582-c1b1-4307-8032-728cd7f6f576",
        "id": "7fm9OvEfN8mT"
      },
      "execution_count": null,
      "outputs": [
        {
          "output_type": "execute_result",
          "data": {
            "text/plain": [
              "1504"
            ]
          },
          "metadata": {},
          "execution_count": 14
        }
      ]
    },
    {
      "cell_type": "markdown",
      "source": [
        "#Apply tokenization"
      ],
      "metadata": {
        "id": "4DmAe3H-4jmV"
      }
    },
    {
      "cell_type": "code",
      "source": [
        "#Creating the tokenizer. HF class\n",
        "model_name =  \"aubmindlab/araelectra-base-discriminator\"\n",
        "araelectra_tokenizer = AutoTokenizer.from_pretrained(model_name,do_lower_case=False)\n",
        "span_train_encodings = araelectra_tokenizer(cgsqa_span_train_questions, cgsqa_span_train_contexts, truncation=True)#, return_offsets_mapping=True\n",
        "val_encodings = araelectra_tokenizer(cgsqa_val_questions, cgsqa_val_contexts, truncation=True, return_offsets_mapping=True)\n",
        "test_encodings = araelectra_tokenizer(cgsqa_test_questions, cgsqa_test_contexts, truncation=True,  return_offsets_mapping=True)"
      ],
      "metadata": {
        "id": "8YiBnbN7N8mT",
        "colab": {
          "base_uri": "https://localhost:8080/",
          "referenced_widgets": [
            "a75dea4571ef49b88e2a536e9878246f",
            "b613cc86c34b488f8553d55593d94dcc",
            "31c14475b03344538c483f9f98ac15a8",
            "1136f928b5fc448a8d7efc93b3a524fb",
            "703b9b64bcb44a6cbcda7ce055d74825",
            "76ef4fb556c0414aab808f5a0d6a3e8f",
            "73e1e4978a414a6e9d1dae7f87b24d6a",
            "1fe70d625ceb4626a44ec6331efc8d61",
            "ed3f2229fb084e02b8ac0bedb90fa2e8",
            "159ec1c72e1c496a82fa9d7b9a50f725",
            "bdbb9819753c452996b4e1996dfe5571",
            "0ec1b9fb637f41bc94b68d51c62acca7",
            "9cd27f124eb54265bdcd123046b2d14f",
            "8c24ddae6d4d4051bd4cc57f8140ed8e",
            "85b220bfc399483c968acc0734f9d87c",
            "cd532a1f2fbe4350ad2b84cf2b060e2b",
            "7cc580f605c64dde8adb9e70f64dde93",
            "652e7f57fd5a418bb3ed66fe766c021c",
            "c73409abb71d4ce39f78412660aa0f15",
            "0df02341c21546ed8cc9fd35f671906a",
            "9aa01d923f3a440a9bc763dfc108b733",
            "87c5da4aa22b47bc9817cb2dc64fa979",
            "900ef2ead26f4c53bd65b1b33d872d3b",
            "e6e8f1282b794da8b7e6a00e70207e4c",
            "70e2c38e14174cacac481294fc2b6e69",
            "b9fb4d5f34144a6c830c5ecfeb335e7f",
            "40ab5c365f124b138c8cbb5d7c196951",
            "33aa0c226f1d43bb962d65f80f2e3453",
            "29d65454714a4530ad43b4d2a050b5fe",
            "b8c3ff8ed7ce4626933f882374a2230d",
            "02e5d42c733f4f37a10b5a04d426ed05",
            "cf6f33b31a964c1ba924e626a8222036",
            "77338d455c554087bfe70f5f619aaa97",
            "516d5af541044355ae44a42363914701",
            "81dba0d455734945a3678f56dc33091c",
            "943526d960bf4206a14e5b0b1c07f4d5",
            "b90857dbaac5464392142a711a1eb731",
            "8df358d70f3d43c5ba6b491c63e94bb1",
            "2df63ba31dde4f0cbfdf85df7a2a1046",
            "c39d64c3972b422eb71fbec6e5846140",
            "1ea42bc694b648319ea8c419cb17dee9",
            "687f36a0576e4c10a86009b18968353a",
            "680448051f3d4500bb19043e715f7045",
            "08991994840749b5b7cc179d9437ba02",
            "8a6be6e187d44036bcadbcc24c1f4413",
            "6680d3d4d8b842868a01e7f01df60a25",
            "aa78648be97c460aae6789923cd19f0f",
            "a3f70fd88f84468da94f29dde9dae141",
            "5c63006763e2410fb371a8af729c62aa",
            "38bcc5b084744d71b764b671b5b79213",
            "79f9f791a6e84eb3b12a59eb1e702f38",
            "fb1fbcf090634e56bf06b4e97b16a17a",
            "6f985e6a2a964643acc7b06e2fb9c4a6",
            "04887442d86b4b279726e27ea5b2c7e9",
            "0147a59806e64784a1214cd9cb825f57"
          ]
        },
        "outputId": "dfeddc3c-a20e-4da3-cef7-483b2012a754"
      },
      "execution_count": null,
      "outputs": [
        {
          "output_type": "display_data",
          "data": {
            "text/plain": [
              "Downloading (…)okenizer_config.json:   0%|          | 0.00/392 [00:00<?, ?B/s]"
            ],
            "application/vnd.jupyter.widget-view+json": {
              "version_major": 2,
              "version_minor": 0,
              "model_id": "a75dea4571ef49b88e2a536e9878246f"
            }
          },
          "metadata": {}
        },
        {
          "output_type": "display_data",
          "data": {
            "text/plain": [
              "Downloading (…)lve/main/config.json:   0%|          | 0.00/503 [00:00<?, ?B/s]"
            ],
            "application/vnd.jupyter.widget-view+json": {
              "version_major": 2,
              "version_minor": 0,
              "model_id": "0ec1b9fb637f41bc94b68d51c62acca7"
            }
          },
          "metadata": {}
        },
        {
          "output_type": "display_data",
          "data": {
            "text/plain": [
              "Downloading (…)solve/main/vocab.txt:   0%|          | 0.00/825k [00:00<?, ?B/s]"
            ],
            "application/vnd.jupyter.widget-view+json": {
              "version_major": 2,
              "version_minor": 0,
              "model_id": "900ef2ead26f4c53bd65b1b33d872d3b"
            }
          },
          "metadata": {}
        },
        {
          "output_type": "display_data",
          "data": {
            "text/plain": [
              "Downloading (…)/main/tokenizer.json:   0%|          | 0.00/2.64M [00:00<?, ?B/s]"
            ],
            "application/vnd.jupyter.widget-view+json": {
              "version_major": 2,
              "version_minor": 0,
              "model_id": "516d5af541044355ae44a42363914701"
            }
          },
          "metadata": {}
        },
        {
          "output_type": "display_data",
          "data": {
            "text/plain": [
              "Downloading (…)cial_tokens_map.json:   0%|          | 0.00/112 [00:00<?, ?B/s]"
            ],
            "application/vnd.jupyter.widget-view+json": {
              "version_major": 2,
              "version_minor": 0,
              "model_id": "8a6be6e187d44036bcadbcc24c1f4413"
            }
          },
          "metadata": {}
        }
      ]
    },
    {
      "cell_type": "code",
      "source": [
        "val_offset = val_encodings['offset_mapping']\n",
        "del val_encodings['offset_mapping']\n",
        "\n",
        "test_offset = test_encodings['offset_mapping']\n",
        "del test_encodings['offset_mapping']"
      ],
      "metadata": {
        "id": "TYmrAGIMN8mU"
      },
      "execution_count": null,
      "outputs": []
    },
    {
      "cell_type": "code",
      "source": [
        "val_ids_to_idx = {k:i for i,k in enumerate(cgsqa_val_ids)}\n",
        "test_ids_to_idx = {k:i for i,k in enumerate(cgsqa_test_ids)}"
      ],
      "metadata": {
        "id": "P7wX-ks6N8mU"
      },
      "execution_count": null,
      "outputs": []
    },
    {
      "cell_type": "code",
      "source": [
        "def index_to_token_position(encodings , answers):\n",
        "  start_positions = list()\n",
        "  end_positions = list()\n",
        "  for i in range(len(answers)):\n",
        "    start_positions.append(encodings.char_to_token(i, answers[i]['answer_start'], 1))\n",
        "    end_positions.append(encodings.char_to_token(i, answers[i]['answer_end'], 1))\n",
        "    #if context truncated\n",
        "    if start_positions[-1] is None:\n",
        "      start_positions[-1] = araelectra_tokenizer.model_max_length\n",
        "    #if end index is space\n",
        "    itt = 1\n",
        "    while end_positions[-1] is None:\n",
        "      end_positions[-1] = encodings.char_to_token(i, answers[i]['answer_end']-itt, 1)\n",
        "      itt = itt + 1\n",
        "  encodings.update({'start_positions': torch.tensor(start_positions), 'end_positions': torch.tensor(end_positions)})\n",
        "  encodings['start_positions'] = encodings['start_positions'].view(len(answers), 1)\n",
        "  encodings['end_positions'] = encodings['end_positions'].view(len(answers), 1)"
      ],
      "metadata": {
        "id": "EuCOqZm9N8mV"
      },
      "execution_count": null,
      "outputs": []
    },
    {
      "cell_type": "code",
      "source": [
        "index_to_token_position(span_train_encodings, cgsqa_span_train_answers)\n",
        "index_to_token_position(val_encodings, cgsqa_val_answers)\n",
        "index_to_token_position(test_encodings, cgsqa_test_answers)"
      ],
      "metadata": {
        "id": "HJaY37xpN8mV"
      },
      "execution_count": null,
      "outputs": []
    },
    {
      "cell_type": "code",
      "source": [
        "val_encodings['IDs'] = cgsqa_val_ids\n",
        "test_encodings['IDs'] = cgsqa_test_ids"
      ],
      "metadata": {
        "id": "TVlZZpfSN8mV"
      },
      "execution_count": null,
      "outputs": []
    },
    {
      "cell_type": "code",
      "source": [
        "print(val_encodings.keys())\n",
        "print(test_encodings.keys())\n",
        "print(span_train_encodings.keys())"
      ],
      "metadata": {
        "colab": {
          "base_uri": "https://localhost:8080/"
        },
        "outputId": "586a3d7c-5bf0-4e3c-df23-aa8f5c751fa5",
        "id": "sf3TYJwxN8mV"
      },
      "execution_count": null,
      "outputs": [
        {
          "output_type": "stream",
          "name": "stdout",
          "text": [
            "dict_keys(['input_ids', 'token_type_ids', 'attention_mask', 'start_positions', 'end_positions', 'IDs'])\n",
            "dict_keys(['input_ids', 'token_type_ids', 'attention_mask', 'start_positions', 'end_positions', 'IDs'])\n",
            "dict_keys(['input_ids', 'token_type_ids', 'attention_mask', 'start_positions', 'end_positions'])\n"
          ]
        }
      ]
    },
    {
      "cell_type": "markdown",
      "source": [
        "#Use data loader"
      ],
      "metadata": {
        "id": "oxq4RE6g8uLE"
      }
    },
    {
      "cell_type": "code",
      "source": [
        "from torch.utils.data import Dataset\n",
        "from torch.utils.data import DataLoader\n",
        "from tqdm import tqdm"
      ],
      "metadata": {
        "id": "8lArmPxzN8mV"
      },
      "execution_count": null,
      "outputs": []
    },
    {
      "cell_type": "code",
      "source": [
        "class cgsDataset(torch.utils.data.Dataset):\n",
        "    def __init__(self, encodings):\n",
        "        self.encodings = encodings\n",
        "    def __getitem__(self, idx):\n",
        "        return {key: val[idx] for key, val in self.encodings.items()}\n",
        "\n",
        "    def __len__(self):\n",
        "        return len(self.encodings.input_ids)\n",
        "\n",
        "span_train_dataset = cgsDataset(span_train_encodings)\n",
        "val_dataset = cgsDataset(val_encodings)\n",
        "test_dataset = cgsDataset(test_encodings)"
      ],
      "metadata": {
        "id": "lo0QtFl8N8mV"
      },
      "execution_count": null,
      "outputs": []
    },
    {
      "cell_type": "code",
      "source": [
        "data_collator = DataCollatorWithPadding(araelectra_tokenizer)"
      ],
      "metadata": {
        "id": "4LcmjU9fN8mV"
      },
      "execution_count": null,
      "outputs": []
    },
    {
      "cell_type": "code",
      "source": [
        "span_train_loader = DataLoader(span_train_dataset, batch_size=8, shuffle= True, collate_fn = data_collator)\n",
        "val_loader = DataLoader(val_dataset, batch_size =8, shuffle = True, collate_fn = data_collator)\n",
        "test_loader = DataLoader(test_dataset, batch_size = 8, shuffle = True, collate_fn = data_collator)"
      ],
      "metadata": {
        "id": "IZF6GrD2N8mW"
      },
      "execution_count": null,
      "outputs": []
    },
    {
      "cell_type": "markdown",
      "source": [
        "#Fine-tune and validate the model on CGSQuAD"
      ],
      "metadata": {
        "id": "wMIWoiFh_hbR"
      }
    },
    {
      "cell_type": "code",
      "source": [
        "model_name1=\"ZeyadAhmed/AraElectra-Arabic-SQuADv2-QA\""
      ],
      "metadata": {
        "id": "K9jlDzqmN8mW"
      },
      "execution_count": null,
      "outputs": []
    },
    {
      "cell_type": "code",
      "source": [
        "QA_AraElectra = ElectraForQuestionAnswering.from_pretrained(model_name1)"
      ],
      "metadata": {
        "id": "mjgKPlJFN8mW",
        "colab": {
          "base_uri": "https://localhost:8080/",
          "height": 81,
          "referenced_widgets": [
            "6f3fc8c26cad4e85bc0d7bba58339891",
            "c505a37cce7f4e9daf4dfdea761a1b23",
            "44e32be059eb42dcbbf8d33f43a4d01a",
            "b4cc13afd23e47ffad067d9c7c806d70",
            "e04c372505974bc9a04a1fa022f0a4cb",
            "6c8466a447514b1781e4f2a3fb78c31c",
            "b6d59b0d67bb4a48a25efdb308b7075c",
            "5c104ba8ac6e4c8e8b315b1525fac125",
            "bed0db16d1bf426c90b8f3c7e9f61eac",
            "c66033b3248849ae8f10cd06bd8e9875",
            "440e0224f89a4ea0b25e931c8aca5174",
            "dd37f7811c59433c9bfef82e133c348f",
            "72048db799e84a9c8b70ae28f36c8747",
            "d3b3bbf759af42bcb3a77d3f3930174c",
            "bd657bb8ad6c454fbb6d0a5a0874849c",
            "15b614b845a34a87b270eef37e68c31c",
            "d9e5f9779adb41d68e2c153d801f0691",
            "62ef3b6c0ba742d885bf699780b8f446",
            "c7881f1d753348bd9c4fcd08aa4ea4b9",
            "5ac50b564cef4358b349d6c91f9635a7",
            "92d3f98da6c14571b6df3958af2924d5",
            "3763da0d7faa49ec9dc6243e3aa76b5f"
          ]
        },
        "outputId": "7e5369d8-7ca2-4a57-ac14-737a22910756"
      },
      "execution_count": null,
      "outputs": [
        {
          "output_type": "display_data",
          "data": {
            "text/plain": [
              "Downloading (…)lve/main/config.json:   0%|          | 0.00/851 [00:00<?, ?B/s]"
            ],
            "application/vnd.jupyter.widget-view+json": {
              "version_major": 2,
              "version_minor": 0,
              "model_id": "6f3fc8c26cad4e85bc0d7bba58339891"
            }
          },
          "metadata": {}
        },
        {
          "output_type": "display_data",
          "data": {
            "text/plain": [
              "Downloading pytorch_model.bin:   0%|          | 0.00/538M [00:00<?, ?B/s]"
            ],
            "application/vnd.jupyter.widget-view+json": {
              "version_major": 2,
              "version_minor": 0,
              "model_id": "dd37f7811c59433c9bfef82e133c348f"
            }
          },
          "metadata": {}
        }
      ]
    },
    {
      "cell_type": "code",
      "source": [
        "def get_raw_preds(data_loader, model,ids_to_index,offset,contexts, max_answer_length, n_best_size):\n",
        "  model.eval()\n",
        "  imd_predictions,script_predictions = dict(), dict()\n",
        "  with torch.no_grad():\n",
        "    total_loss = 0.0\n",
        "    total_predictions = dict()\n",
        "    #no_probs_pred = dict()\n",
        "    loop = tqdm(data_loader, leave=True)\n",
        "    for batch_idx, batch in enumerate(loop):\n",
        "      tokens = batch['input_ids'].to(device)\n",
        "      masks = batch['attention_mask'].to(device)\n",
        "      tokens_type = batch['token_type_ids'].to(device)\n",
        "      gt_start = batch['start_positions'].to(device)\n",
        "      gt_end = batch['end_positions'].to(device)\n",
        "      IDs = batch['IDs'].to(device)\n",
        "      outputs = model(tokens, masks, tokens_type, start_positions=gt_start, end_positions=gt_end)\n",
        "      #calculating loss\n",
        "      loss = outputs.loss\n",
        "      #update average total loss\n",
        "      total_loss = total_loss + ((1 / (batch_idx + 1)) * (loss.item() - total_loss))\n",
        "      #calculating f1 score and EM\n",
        "      #curr_batch_size = tokens.shape[0]\n",
        "      post_raw_preds(IDs, outputs.start_logits, outputs.end_logits, ids_to_index, offset, contexts,max_answer_length, n_best_size, imd_predictions, script_predictions )\n",
        "    model.train()\n",
        "    return imd_predictions,script_predictions"
      ],
      "metadata": {
        "id": "3YdaFOyCN8mW"
      },
      "execution_count": null,
      "outputs": []
    },
    {
      "cell_type": "code",
      "source": [
        "def post_raw_preds(IDs, total_start_logits, total_end_logits,ids_to_index,offset,contexts, max_answer_length, n_best_size,\n",
        " imd_predictions,script_predictions ):\n",
        "    total_start_logits = total_start_logits.cpu().numpy()\n",
        "    total_end_logits = total_end_logits.cpu().numpy()\n",
        "    IDs = IDs.cpu().numpy()\n",
        "    for i in range(IDs.shape[0]):\n",
        "        offset_mapping = offset[ids_to_index[IDs[i].squeeze()]]\n",
        "        # The first feature comes from the first example. For the more general case, we will need to be match the example_id to\n",
        "        # an example index\n",
        "        context = contexts[ids_to_index[IDs[i].squeeze()]]\n",
        "        start_logits = total_start_logits[i]\n",
        "        end_logits = total_end_logits[i]\n",
        "        # Gather the indices the best start/end logits:\n",
        "        start_indexes = np.argsort(start_logits)[-1 : -n_best_size - 1 : -1].tolist()\n",
        "        end_indexes = np.argsort(end_logits)[-1 : -n_best_size - 1 : -1].tolist()\n",
        "        valid_answers = []\n",
        "        for start_index in start_indexes:\n",
        "            for end_index in end_indexes:\n",
        "                # Don't consider out-of-scope answers, either because the indices are out of bounds or correspond\n",
        "                # to part of the input_ids that are not in the context.\n",
        "                if (\n",
        "                    start_index >= len(offset_mapping)\n",
        "                    or end_index >= len(offset_mapping)\n",
        "                    or offset_mapping[start_index] is None\n",
        "                    or offset_mapping[end_index] is None\n",
        "                ):\n",
        "                    continue\n",
        "                # Don't consider answers with a length that is either < 0 or > max_answer_length.\n",
        "                if end_index < start_index or end_index - start_index + 1 > max_answer_length:\n",
        "                    continue\n",
        "                if start_index <= end_index: # We need to refine that test to check the answer is inside the context\n",
        "                    start_char = offset_mapping[start_index][0]\n",
        "                    end_char = offset_mapping[end_index][1]\n",
        "                    valid_answers.append(\n",
        "                        {\n",
        "                            \"score\": start_logits[start_index] + end_logits[end_index],\n",
        "                            \"text\": context[start_char: end_char]\n",
        "                        }\n",
        "                    )\n",
        "        if len(valid_answers) ==0:\n",
        "            valid_answers.append({\"text\":\"\", \"score\":\"\"})\n",
        "\n",
        "        valid_answer = sorted(valid_answers, key=lambda x: x[\"score\"], reverse=True)[0]\n",
        "        imd_predictions[str(IDs[i].squeeze())] = valid_answer\n",
        "        script_predictions[str(IDs[i].squeeze())] = valid_answer['text']"
      ],
      "metadata": {
        "id": "W9pyXei0N8mX"
      },
      "execution_count": null,
      "outputs": []
    },
    {
      "cell_type": "code",
      "source": [
        "def get_preds(total_preds, data_path):\n",
        "    log_path = '/content/'\n",
        "    preds_path = os.path.join(log_path, 'preds1')\n",
        "    if not os.path.exists(preds_path):\n",
        "        os.mkdir(preds_path)\n",
        "    text_preds_path = os.path.join(preds_path, 'preds1.json')\n",
        "    jsonString = json.dumps(total_preds)\n",
        "    jsonFile = open(text_preds_path, \"w\")\n",
        "    jsonFile.write(jsonString)\n",
        "    jsonFile.close()\n",
        "\n",
        "    !python /content/Arabic-MRC/evaluatev2.py /content/cgsqa-val.json /content/preds1/preds1.json electra  --out-file /content/preds1\n",
        "\n",
        "    if log_path:\n",
        "        with open(os.path.join(log_path, '/content/preds1/res.csv')) as f:\n",
        "            DictReader_obj = csv.DictReader(f)\n",
        "            lastrow = None\n",
        "            for item in DictReader_obj:\n",
        "                lastrow = dict(item)\n",
        "        return lastrow\n",
        "    return 1"
      ],
      "metadata": {
        "id": "YQOAEcnzN8mX"
      },
      "execution_count": null,
      "outputs": []
    },
    {
      "cell_type": "code",
      "source": [
        "def span_train(model,start_epoch, num_epochs, optimizer, train_loader, val_loader):#optimizer,max_compined_metric,\n",
        "  model.train()\n",
        "  for epoch in range(start_epoch,num_epochs):\n",
        "    total_loss = 0.0\n",
        "    loop = tqdm(train_loader, leave=True)\n",
        "    for batch_idx, batch in enumerate(loop):\n",
        "      tokens = batch['input_ids'].to(device)\n",
        "      masks = batch['attention_mask'].to(device)\n",
        "      tokens_type = batch['token_type_ids'].to(device)\n",
        "      gt_start = batch['start_positions'].to(device)\n",
        "      gt_end = batch['end_positions'].to(device)\n",
        "      outputs = model(tokens, masks, tokens_type, start_positions=gt_start, end_positions=gt_end)\n",
        "      loss = outputs.loss\n",
        "      loss = 2*loss\n",
        "      loss.backward()\n",
        "      optimizer.step()\n",
        "      optimizer.zero_grad()\n",
        "      total_loss = total_loss + ((1 / (batch_idx + 1)) * (loss.item() - total_loss))\n",
        "      loop.set_description(f'Epoch {epoch}')\n",
        "      loop.set_postfix(loss=loss.item())\n",
        "\n",
        "    imd_preds, script_preds = get_raw_preds(val_loader, model,val_ids_to_idx,val_offset,cgsqa_val_contexts, 30, 10)\n",
        "    result_dict = get_preds(script_preds, '/content/cgsqa-val.json')\n",
        "    '''\n",
        "    checkpoint = {\n",
        "            'epoch': epoch + 1,\n",
        "            'result_dict':result_dict,\n",
        "            'state_dict': model.state_dict(),\n",
        "            'optimizer': optimizer.state_dict(),\n",
        "        }\n",
        "    '''\n",
        "  return model"
      ],
      "metadata": {
        "id": "z_-9AGpUN8mX"
      },
      "execution_count": null,
      "outputs": []
    },
    {
      "cell_type": "code",
      "source": [
        "QA_AraElectra = ElectraForQuestionAnswering.from_pretrained(model_name1)\n",
        "span_num_epochs = 3\n",
        "span_learning_rate = 3e-5\n",
        "span_optimizer = torch.optim.AdamW(QA_AraElectra.parameters(), lr=span_learning_rate, weight_decay=1e-5)\n",
        "device = torch.device('cuda') if torch.cuda.is_available() else torch.device('cpu')\n",
        "QA_AraElectra.to(device)"
      ],
      "metadata": {
        "colab": {
          "base_uri": "https://localhost:8080/"
        },
        "outputId": "1665b928-8d8b-496b-f9b5-860c93522bb1",
        "id": "P0HmmtoUN8mX"
      },
      "execution_count": null,
      "outputs": [
        {
          "output_type": "execute_result",
          "data": {
            "text/plain": [
              "ElectraForQuestionAnswering(\n",
              "  (electra): ElectraModel(\n",
              "    (embeddings): ElectraEmbeddings(\n",
              "      (word_embeddings): Embedding(64000, 768, padding_idx=0)\n",
              "      (position_embeddings): Embedding(512, 768)\n",
              "      (token_type_embeddings): Embedding(2, 768)\n",
              "      (LayerNorm): LayerNorm((768,), eps=1e-12, elementwise_affine=True)\n",
              "      (dropout): Dropout(p=0.1, inplace=False)\n",
              "    )\n",
              "    (encoder): ElectraEncoder(\n",
              "      (layer): ModuleList(\n",
              "        (0-11): 12 x ElectraLayer(\n",
              "          (attention): ElectraAttention(\n",
              "            (self): ElectraSelfAttention(\n",
              "              (query): Linear(in_features=768, out_features=768, bias=True)\n",
              "              (key): Linear(in_features=768, out_features=768, bias=True)\n",
              "              (value): Linear(in_features=768, out_features=768, bias=True)\n",
              "              (dropout): Dropout(p=0.1, inplace=False)\n",
              "            )\n",
              "            (output): ElectraSelfOutput(\n",
              "              (dense): Linear(in_features=768, out_features=768, bias=True)\n",
              "              (LayerNorm): LayerNorm((768,), eps=1e-12, elementwise_affine=True)\n",
              "              (dropout): Dropout(p=0.1, inplace=False)\n",
              "            )\n",
              "          )\n",
              "          (intermediate): ElectraIntermediate(\n",
              "            (dense): Linear(in_features=768, out_features=3072, bias=True)\n",
              "            (intermediate_act_fn): GELUActivation()\n",
              "          )\n",
              "          (output): ElectraOutput(\n",
              "            (dense): Linear(in_features=3072, out_features=768, bias=True)\n",
              "            (LayerNorm): LayerNorm((768,), eps=1e-12, elementwise_affine=True)\n",
              "            (dropout): Dropout(p=0.1, inplace=False)\n",
              "          )\n",
              "        )\n",
              "      )\n",
              "    )\n",
              "  )\n",
              "  (qa_outputs): Linear(in_features=768, out_features=2, bias=True)\n",
              ")"
            ]
          },
          "metadata": {},
          "execution_count": 32
        }
      ]
    },
    {
      "cell_type": "code",
      "source": [
        "span_trained_model = span_train(QA_AraElectra,0, span_num_epochs, span_optimizer, span_train_loader, val_loader)#span_optimizer,0.0,"
      ],
      "metadata": {
        "colab": {
          "base_uri": "https://localhost:8080/"
        },
        "outputId": "bff64349-5b63-4453-de96-7aa363afff12",
        "id": "Ww3BAH6_N8mX"
      },
      "execution_count": null,
      "outputs": [
        {
          "output_type": "stream",
          "name": "stderr",
          "text": [
            "  0%|          | 0/132 [00:00<?, ?it/s]You're using a ElectraTokenizerFast tokenizer. Please note that with a fast tokenizer, using the `__call__` method is faster than using a method to encode the text followed by a call to the `pad` method to get a padded encoding.\n",
            "Epoch 0: 100%|██████████| 132/132 [01:02<00:00,  2.10it/s, loss=1.32]\n",
            "100%|██████████| 29/29 [00:04<00:00,  6.45it/s]\n"
          ]
        },
        {
          "output_type": "stream",
          "name": "stdout",
          "text": [
            "{\n",
            "  \"exact\": 88.05309734513274,\n",
            "  \"f1\": 93.77490749172163,\n",
            "  \"total\": 226,\n",
            "  \"HasAns_exact\": 88.05309734513274,\n",
            "  \"HasAns_f1\": 93.77490749172163,\n",
            "  \"HasAns_total\": 226\n",
            "}\n"
          ]
        },
        {
          "output_type": "stream",
          "name": "stderr",
          "text": [
            "Epoch 1: 100%|██████████| 132/132 [01:05<00:00,  2.01it/s, loss=0.0428]\n",
            "100%|██████████| 29/29 [00:04<00:00,  5.99it/s]\n"
          ]
        },
        {
          "output_type": "stream",
          "name": "stdout",
          "text": [
            "{\n",
            "  \"exact\": 91.59292035398231,\n",
            "  \"f1\": 95.47018001664017,\n",
            "  \"total\": 226,\n",
            "  \"HasAns_exact\": 91.59292035398231,\n",
            "  \"HasAns_f1\": 95.47018001664017,\n",
            "  \"HasAns_total\": 226\n",
            "}\n"
          ]
        },
        {
          "output_type": "stream",
          "name": "stderr",
          "text": [
            "Epoch 2: 100%|██████████| 132/132 [01:04<00:00,  2.03it/s, loss=0.301]\n",
            "100%|██████████| 29/29 [00:04<00:00,  6.13it/s]\n"
          ]
        },
        {
          "output_type": "stream",
          "name": "stdout",
          "text": [
            "{\n",
            "  \"exact\": 92.92035398230088,\n",
            "  \"f1\": 96.49975516125957,\n",
            "  \"total\": 226,\n",
            "  \"HasAns_exact\": 92.92035398230088,\n",
            "  \"HasAns_f1\": 96.49975516125957,\n",
            "  \"HasAns_total\": 226\n",
            "}\n"
          ]
        }
      ]
    },
    {
      "cell_type": "code",
      "source": [
        "span_trained_model.save_pretrained('Model1')\n",
        "araelectra_tokenizer.save_pretrained('Model1')"
      ],
      "metadata": {
        "colab": {
          "base_uri": "https://localhost:8080/"
        },
        "outputId": "d26432d4-1f43-4051-e10a-a6dbcf682c59",
        "id": "q7ywHZPrN8mY"
      },
      "execution_count": null,
      "outputs": [
        {
          "output_type": "execute_result",
          "data": {
            "text/plain": [
              "('Model1/tokenizer_config.json',\n",
              " 'Model1/special_tokens_map.json',\n",
              " 'Model1/vocab.txt',\n",
              " 'Model1/added_tokens.json',\n",
              " 'Model1/tokenizer.json')"
            ]
          },
          "metadata": {},
          "execution_count": 34
        }
      ]
    },
    {
      "cell_type": "markdown",
      "source": [
        "#Test and evaluate the model on CGSQuAD"
      ],
      "metadata": {
        "id": "BlhkXeWC_we2"
      }
    },
    {
      "cell_type": "code",
      "source": [
        "span_trained_model = ElectraForQuestionAnswering.from_pretrained('Model1')\n",
        "device = torch.device('cuda') if torch.cuda.is_available() else torch.device('cpu')\n",
        "span_trained_model.to(device)"
      ],
      "metadata": {
        "colab": {
          "base_uri": "https://localhost:8080/"
        },
        "outputId": "4ed227d3-69c5-4ddd-d8d1-e00e429e1632",
        "id": "y6xVUnzqN8mY"
      },
      "execution_count": null,
      "outputs": [
        {
          "output_type": "execute_result",
          "data": {
            "text/plain": [
              "ElectraForQuestionAnswering(\n",
              "  (electra): ElectraModel(\n",
              "    (embeddings): ElectraEmbeddings(\n",
              "      (word_embeddings): Embedding(64000, 768, padding_idx=0)\n",
              "      (position_embeddings): Embedding(512, 768)\n",
              "      (token_type_embeddings): Embedding(2, 768)\n",
              "      (LayerNorm): LayerNorm((768,), eps=1e-12, elementwise_affine=True)\n",
              "      (dropout): Dropout(p=0.1, inplace=False)\n",
              "    )\n",
              "    (encoder): ElectraEncoder(\n",
              "      (layer): ModuleList(\n",
              "        (0-11): 12 x ElectraLayer(\n",
              "          (attention): ElectraAttention(\n",
              "            (self): ElectraSelfAttention(\n",
              "              (query): Linear(in_features=768, out_features=768, bias=True)\n",
              "              (key): Linear(in_features=768, out_features=768, bias=True)\n",
              "              (value): Linear(in_features=768, out_features=768, bias=True)\n",
              "              (dropout): Dropout(p=0.1, inplace=False)\n",
              "            )\n",
              "            (output): ElectraSelfOutput(\n",
              "              (dense): Linear(in_features=768, out_features=768, bias=True)\n",
              "              (LayerNorm): LayerNorm((768,), eps=1e-12, elementwise_affine=True)\n",
              "              (dropout): Dropout(p=0.1, inplace=False)\n",
              "            )\n",
              "          )\n",
              "          (intermediate): ElectraIntermediate(\n",
              "            (dense): Linear(in_features=768, out_features=3072, bias=True)\n",
              "            (intermediate_act_fn): GELUActivation()\n",
              "          )\n",
              "          (output): ElectraOutput(\n",
              "            (dense): Linear(in_features=3072, out_features=768, bias=True)\n",
              "            (LayerNorm): LayerNorm((768,), eps=1e-12, elementwise_affine=True)\n",
              "            (dropout): Dropout(p=0.1, inplace=False)\n",
              "          )\n",
              "        )\n",
              "      )\n",
              "    )\n",
              "  )\n",
              "  (qa_outputs): Linear(in_features=768, out_features=2, bias=True)\n",
              ")"
            ]
          },
          "metadata": {},
          "execution_count": 35
        }
      ]
    },
    {
      "cell_type": "code",
      "source": [
        "imd_preds, script_preds = get_raw_preds(test_loader, span_trained_model, test_ids_to_idx, test_offset, cgsqa_test_contexts, 30, 10)"
      ],
      "metadata": {
        "colab": {
          "base_uri": "https://localhost:8080/"
        },
        "outputId": "4f3a6740-ab7d-463a-a10c-af7b7c035675",
        "id": "H5jr262fN8mY"
      },
      "execution_count": null,
      "outputs": [
        {
          "output_type": "stream",
          "name": "stderr",
          "text": [
            "100%|██████████| 29/29 [00:04<00:00,  6.18it/s]\n"
          ]
        }
      ]
    },
    {
      "cell_type": "code",
      "source": [
        "print(imd_preds)"
      ],
      "metadata": {
        "colab": {
          "base_uri": "https://localhost:8080/"
        },
        "outputId": "6120dca7-f41a-4ef1-e3f6-9749b99c6406",
        "id": "HzlR2__CN8mY"
      },
      "execution_count": null,
      "outputs": [
        {
          "output_type": "stream",
          "name": "stdout",
          "text": [
            "{'18': {'score': 10.368954, 'text': 'رسالة بحثية يعدها الطالب بتوجيه المشرف الاكاديمي'}, '125': {'score': 10.414878, 'text': 'ويتم اختياره من قبل عميد كلية الدراسات العليا'}, '182': {'score': 12.677702, 'text': 'سنتان ويجوز تمديدها'}, '153': {'score': 17.14149, 'text': 'خلال مشرفه الاكاديمي'}, '13': {'score': 12.878348, 'text': 'عن طريق عميد كلية الدراسات العليا'}, '198': {'score': 17.025555, 'text': 'اجتياز جميع متطلبات البرنامج بمعدل متوسط لا يقل عن 3'}, '110': {'score': 15.506573, 'text': 'الفصل الاول للعام الجامعي التالي لاعتمادها'}, '145': {'score': 17.534016, 'text': 'المشرف والمشرف المساعد ورئيس اللجنة والممتحنين'}, '88': {'score': 17.608189, 'text': 'ناجح أو راسب'}, '40': {'score': 14.685641, 'text': '500 دينار كويتي'}, '53': {'score': 15.75659, 'text': 'يقوم بتقديم تقريرا مكتوبا'}, '212': {'score': 14.253257, 'text': 'عن طريق تقديم الاقتراح الى لجنة البرنامج'}, '51': {'score': 14.811602, 'text': 'سنتين'}, '8': {'score': 9.200519, 'text': 'متطلبات البرنامج نفسه ومن الممكن اضافة متطلبات اضافية'}, '142': {'score': 12.695602, 'text': 'يقدم الطالب مشروع تفصيلي لبحث الدكتوراة'}, '147': {'score': 18.149912, 'text': 'سنة دراسية واحدة'}, '168': {'score': 16.154936, 'text': 'لاحتسابه وقت التحكيم'}, '159': {'score': 14.816093, 'text': 'يحددها مجلس الجامعة'}, '3': {'score': 7.1293306, 'text': 'ولا يمكن التقديم على أكثر من برنامج مختلف في نفس الوقت'}, '10': {'score': 12.815147, 'text': 'ولا تحتسب فترات انقطاع الدراسة'}, '28': {'score': 16.15035, 'text': 'لاحتسابه وقت التحكيم'}, '121': {'score': 14.843105, 'text': '6 وحدات دراسية بحد اقصى'}, '176': {'score': 17.231205, 'text': '3 سنوات'}, '210': {'score': 17.626766, 'text': 'مهمة واحدة فقط خلال مدة دراسته'}, '175': {'score': 16.70094, 'text': '8 و 12 وحدة دراسية في كل فصل دراسي'}, '54': {'score': 15.4037, 'text': 'يقوم بتقديم تقريرا مكتوبا'}, '119': {'score': 15.565216, 'text': 'يرفع الى لجنة امتحان الرسالة'}, '89': {'score': 15.548906, 'text': 'يقوم بتقديم تقريرا مكتوبا'}, '114': {'score': 17.065756, 'text': '3 سنوات'}, '133': {'score': 15.09363, 'text': '93 دينار كويتي'}, '152': {'score': 15.26524, 'text': 'سنتان قابلة للتجديد ويجوز بقاء ثلث الأعضاء القدامى عند إعادة التشكيل'}, '45': {'score': 15.092327, 'text': 'اسم المنطقة التي يتواجد بها مكتب البريد'}, '24': {'score': 17.660698, 'text': 'يفصل اكاديميا'}, '178': {'score': 17.472124, 'text': 'مهمة واحدة فقط خلال مدة دراسته'}, '31': {'score': 16.619987, 'text': 'عن طريق الموقع الالكتروني لكلية الدراسات العليا'}, '113': {'score': 17.165413, 'text': 'قبل بداية الفصل الدراسي الثاني'}, '71': {'score': 17.377522, 'text': 'الخبرة العملية في المجال والابحاث المنشورة او أوراق المشاركة في المؤتمرات'}, '126': {'score': 17.625414, 'text': 'المشرف والمشرف المساعد ورئيس اللجنة والممتحنين'}, '158': {'score': 14.763506, 'text': 'حسب التواريخ المذكورة في التقويم الدراسي'}, '63': {'score': 14.44438, 'text': 'شريطة عدم ارتباطهم بعقد عمل مع جامعة أخرى'}, '163': {'score': 12.389637, 'text': 'ويتم اختياره من قبل عميد كلية الدراسات العليا'}, '203': {'score': 15.50528, 'text': '5 سنوات'}, '52': {'score': 17.110716, 'text': 'تقرير مسبب من المشرف واعتماد لجنة البرنامج وموافقة عميد الكلية'}, '189': {'score': 17.062319, 'text': 'الطالب مسجلا بدوام كامل ولا تقيم اسرته في الكويت'}, '41': {'score': 16.376537, 'text': 'يفصل أكاديميا'}, '44': {'score': 16.205345, 'text': '93 دينار كويتي'}, '94': {'score': 15.553411, 'text': 'حسب التواريخ المذكورة في التقويم الدراسي'}, '155': {'score': 17.23069, 'text': '3 سنوات'}, '139': {'score': 17.27164, 'text': 'جميع المقررات التي يلزمه دراستها بالاضافة الى اي مقررات اضافية'}, '47': {'score': 15.589949, 'text': 'لاستكمال متطلبات درجة الماجستير هو إثنا عشر شهرا'}, '98': {'score': 11.271795, 'text': 'نعم يجوز الغاء المنحة الدراسية'}, '200': {'score': 15.682444, 'text': 'تقدير مرضي S أو غير مرضي U'}, '33': {'score': 14.321323, 'text': 'بالاضافة الى شروط اخرى بالإعلان'}, '138': {'score': 16.659506, 'text': '30 دينار كويتي'}, '92': {'score': 17.291443, 'text': 'المشرف والمشرف المساعد ورئيس اللجنة والممتحنين'}, '213': {'score': 14.447529, 'text': 'سنتان'}, '85': {'score': 4.8994594, 'text': 'بتحويله لطالب مقيد'}, '170': {'score': 16.334906, 'text': 'ثلاثة أعضاء على الأقل'}, '156': {'score': 15.288149, 'text': 'جامعة الشدادية'}, '93': {'score': 16.199873, 'text': 'بالاضافة الى شروط اخرى بالإعلان'}, '36': {'score': 15.115654, 'text': 'يجوز تمديدها لفصل دراسي واحد'}, '106': {'score': 14.189289, 'text': 'أستاذ'}, '49': {'score': 15.300846, 'text': 'يجوز تمديدها لفصل دراسي واحد'}, '76': {'score': 17.289055, 'text': 'عميد كلية الدراسات العليا'}, '215': {'score': 15.616316, 'text': 'ولا يشترط اجتياز الامتحان الشامل او اعداد أطروحة'}, '151': {'score': 14.718372, 'text': 'سنتين'}, '181': {'score': 17.278456, 'text': 'قبل نهاية الفصل الدراسي الثالث'}, '144': {'score': 15.404894, 'text': 'يقوم بتقديم تقريرا مكتوبا'}, '135': {'score': 13.601976, 'text': 'المشرف'}, '208': {'score': 14.180647, 'text': '10 دينار كويتي للوحدة الدراسية الواحدة بالإضافة الى 40 دينار لرسوم التسجيل'}, '87': {'score': 13.92025, 'text': 'أستاذ'}, '32': {'score': 18.310947, 'text': 'ناجح P او راسب F'}, '57': {'score': 16.51257, 'text': 'لاحتسابه وقت التحكيم'}, '196': {'score': 17.654716, 'text': 'يفصل اكاديميا'}, '222': {'score': 13.862379, 'text': 'أستاذ'}, '141': {'score': 15.524366, 'text': 'يجوز تمديدها لفصل دراسي واحد'}, '4': {'score': 16.210855, 'text': '65 دينار كويتي'}, '69': {'score': 12.753338, 'text': 'نعم يجوز ان يكون امتحان رسالة الدكتوراة علنيا'}, '129': {'score': 17.166164, 'text': 'رسم تسجيل ورسم دراسة ورسم بحث ورسم إعادة قيد'}, '95': {'score': 13.190935, 'text': 'نعم يجوز الغاء المنحة الدراسية'}, '183': {'score': 17.719559, 'text': 'طلب مشرف على الرسالة'}, '66': {'score': 18.3559, 'text': '6 ساعات أسبوعيا'}, '100': {'score': 15.846954, 'text': 'سنتان قابلة للتجديد ويجوز بقاء ثلث الأعضاء القدامى عند إعادة التشكيل'}, '22': {'score': 14.284807, 'text': 'سنتان'}, '134': {'score': 17.221619, 'text': 'مسجلا بدوام كامل وليس له مصدر دخل اخر'}, '112': {'score': 16.4847, 'text': 'عقب او قرب انتهاء اجتياز جميع المقررات المحددة'}, '204': {'score': 12.3484745, 'text': 'يجوز رد رسوم الدراسه قبل انتهاء فترة السحب والإضافة'}, '205': {'score': 17.398136, 'text': 'قبل بداية الفصل الدراسي الثاني'}, '77': {'score': 11.830824, 'text': 'نعم يجوز ان يكون امتحان رسالة الدكتوراة علنيا'}, '91': {'score': 15.749679, 'text': 'لا تصرف المكافأة في أي فترة تليها'}, '140': {'score': 15.491373, 'text': 'قبول نظامي فقط'}, '80': {'score': 13.561918, 'text': 'يعلن عنه في وسائل الاعلام'}, '197': {'score': 13.988984, 'text': 'عن طريق تقديم الاقتراح الى لجنة البرنامج'}, '1': {'score': 15.984591, 'text': 'كامل او جزئي'}, '123': {'score': 16.770164, 'text': 'تقديمه تقريرا سنويا عن سير برنامج الدراسات العليا وذلك قبل نهاية شهر يوليو'}, '221': {'score': 14.844851, 'text': 'سنتين'}, '211': {'score': 15.432124, 'text': 'يقوم بتقديم تقريرا مكتوبا'}, '149': {'score': 14.890747, 'text': 'ويجوز تمديدها لسنتين اضافتين'}, '162': {'score': 13.033114, 'text': 'عميد كلية الدراسات العليا'}, '184': {'score': 16.838448, 'text': 'تقدير 2 . 67 على الاقل ولم يمر على اجتيازها اكثر من سنتين'}, '116': {'score': 16.632835, 'text': 'في جميع الفصول الدراسية التالية لاجتيازه الامتحان التأهيلي'}, '225': {'score': 17.46292, 'text': 'اجتياز جميع متطلبات البرنامج بمعدل متوسط لا يقل عن 3'}, '50': {'score': 13.938013, 'text': '3 اعضاء فقط'}, '42': {'score': 11.147106, 'text': 'هو صفر نقطة'}, '220': {'score': 15.238565, 'text': 'ويجوز تمديدها لسنتين اضافتين'}, '132': {'score': 12.876049, 'text': 'نعم يجوز الغاء المنحة الدراسية'}, '46': {'score': 12.844403, 'text': 'أستاذ'}, '97': {'score': 17.036331, 'text': 'سنة دراسية واحدة'}, '96': {'score': 14.217865, 'text': 'نعم يشترط حضور ممتحن امتحان رسالة الدكتوراة'}, '64': {'score': 12.902243, 'text': 'الشهادة الاصلية ، البطاقة المدنية ، صور شخصية ، شهادة الخبرة الوظيفية'}, '17': {'score': 18.070168, 'text': '36 شهرا على الأكثر'}, '131': {'score': 12.952497, 'text': 'اختبار يقيس مستوى الطالب في الرياضيات الأساسية'}, '193': {'score': 16.07296, 'text': 'لاحتسابه وقت التحكيم'}, '107': {'score': 17.564383, 'text': 'مهمة واحدة فقط خلال مدة دراسته'}, '27': {'score': 16.598803, 'text': 'يمنح فرصة أخرى'}, '174': {'score': 18.444765, 'text': 'ناجح P او راسب F'}, '21': {'score': 15.94346, 'text': 'في حال عدم توافر التخصص بين الأساتذة والأساتذة المشاركين'}, '199': {'score': 15.130964, 'text': 'يجوز تمديدها لفصل دراسي واحد'}, '83': {'score': 12.800009, 'text': 'نعم يجوز ان يكون امتحان رسالة الدكتوراة علنيا'}, '146': {'score': 15.87936, 'text': 'يقوم بتقديم تقريرا مكتوبا'}, '102': {'score': 16.484858, 'text': 'يفصل أكاديميا'}, '62': {'score': 11.031498, 'text': 'نعم يجوز الغاء المنحة الدراسية'}, '68': {'score': 15.590378, 'text': 'يقوم بتقديم تقريرا مكتوبا'}, '16': {'score': 15.571323, 'text': 'قبول نظامي فقط'}, '105': {'score': 17.144253, 'text': 'سنة واحدة قابلة للتجديد'}, '104': {'score': 15.755711, 'text': 'حسب التواريخ المذكورة في التقويم الدراسي'}, '150': {'score': 14.303757, 'text': 'القانون العام والقانون الخاص والاداب والعلوم والتربية والشريعة الإسلامية وإدارة الاعمال والصحة العامة'}, '217': {'score': 17.463816, 'text': 'المشرف والمشرف المساعد ورئيس اللجنة والممتحنين'}, '209': {'score': 17.216291, 'text': 'كامل او جزئي'}, '55': {'score': 15.439896, 'text': 'هو 2 . 67'}, '161': {'score': 14.744855, 'text': 'يجوز تمديدها لفصل دراسي واحد'}, '166': {'score': 16.315907, 'text': 'في ضوء دراسة حالتهم الاجتماعية'}, '60': {'score': -0.88518894, 'text': 'يعتمد على نوع الدوام اما جزئي او كامل'}, '15': {'score': 15.260091, 'text': 'في وقت لا يتعدى نهاية الفصل الدراسي التالي لقبوله'}, '173': {'score': 14.738296, 'text': 'حسب التواريخ المذكورة في التقويم الدراسي'}, '0': {'score': 13.406513, 'text': 'نظام التحكيم الالي الجديد الخاص بالشؤون الأكاديمية'}, '90': {'score': 17.908176, 'text': 'سنة دراسية واحدة'}, '188': {'score': 17.716629, 'text': 'عميد كلية الدراسات العليا'}, '165': {'score': 17.792444, 'text': 'يفصل اكاديميا'}, '43': {'score': 16.63845, 'text': 'في ضوء دراسة حالتهم الاجتماعية'}, '224': {'score': 15.47698, 'text': 'يجوز تمديدها لفصل دراسي واحد'}, '99': {'score': 14.1396475, 'text': 'لجنة البرنامج'}, '124': {'score': 16.742645, 'text': 'يمنح فرصة أخرى'}, '115': {'score': 14.141775, 'text': 'نعم يشترط حضور ممتحن امتحان رسالة الدكتوراة'}, '186': {'score': 14.834984, 'text': 'سنتين'}, '219': {'score': 14.816124, 'text': 'في جامعة الكويت'}, '26': {'score': 15.323698, 'text': 'يجوز تمديدها لفصل دراسي واحد'}, '137': {'score': 14.536993, 'text': '100 دينار كويتي'}, '157': {'score': 13.952419, 'text': 'عن طريق تقديم الاقتراح الى لجنة البرنامج'}, '117': {'score': 17.409946, 'text': 'عن طريق الموقع الالكتروني لكلية الدراسات العليا'}, '148': {'score': 14.131044, 'text': 'عن طريق تقديم الاقتراح الى لجنة البرنامج'}, '19': {'score': 16.528624, 'text': 'سنتان قابلة للتجديد ويجوز بقاء ثلث الأعضاء القدامى عند إعادة التشكيل'}, '30': {'score': 17.851723, 'text': 'اعلان معيد البعثة'}, '179': {'score': 17.762474, 'text': 'يفصل اكاديميا'}, '130': {'score': 16.926342, 'text': '4 سنوات'}, '25': {'score': 15.51288, 'text': 'يقوم بتقديم تقريرا مكتوبا'}, '122': {'score': 16.970966, 'text': 'عقب او قرب انتهاء اجتياز جميع المقررات المحددة'}, '7': {'score': 17.632542, 'text': 'موقع بوابة الدراسات العليا الجديد'}, '185': {'score': 17.1296, 'text': 'خلال مشرفه الاكاديمي'}, '59': {'score': 12.771229, 'text': 'يقدم الطالب مشروع تفصيلي لبحث الدكتوراة'}, '65': {'score': 14.913124, 'text': 'بموافقة مجلس كلية الدراسات العليا'}, '202': {'score': 12.04565, 'text': 'اذا استوفى المتقدم كافة الشروط'}, '61': {'score': 15.041157, 'text': 'عن طريق عميد كلية الدراسات العليا'}, '37': {'score': 14.538859, 'text': 'يجوز تمديدها لفصل دراسي واحد'}, '223': {'score': 15.612465, 'text': 'يقوم بتقديم تقريرا مكتوبا'}, '187': {'score': 15.614733, 'text': 'هو 2 . 67'}, '56': {'score': 17.581573, 'text': 'خلال فترة السحب والإضافة ولا يمكن استردادها بعد ذلك'}, '192': {'score': 17.499832, 'text': 'مهمة واحدة فقط خلال مدة دراسته'}, '74': {'score': 17.90469, 'text': 'سنة دراسية واحدة'}, '101': {'score': 18.086323, 'text': 'درجة الماجستير بالاضافة الى شروط اخرى'}, '81': {'score': 14.144087, 'text': '5 و 9 وحدات دراسية في كل فصل دراسي'}, '39': {'score': 17.263636, 'text': 'مهمة واحدة فقط خلال مدة دراسته'}, '118': {'score': 13.852269, 'text': 'لتفسير اي بند من بنود اللائحة في حال وجود غموض'}, '154': {'score': 15.181501, 'text': 'يجوز تمديدها لفصل دراسي واحد'}, '127': {'score': 12.445362, 'text': 'نعم يجوز الغاء المنحة الدراسية'}, '164': {'score': 16.810406, 'text': 'عدد ساعات الدراسة خلال الفصل الدراسي الواحد'}, '136': {'score': 17.8259, 'text': 'سنة دراسية واحدة'}, '177': {'score': 15.640615, 'text': 'ويجوز تمديدها لسنتين اضافتين'}, '35': {'score': 13.576126, 'text': 'عن طريق تقديم الاقتراح الى لجنة البرنامج'}, '23': {'score': 15.14667, 'text': 'رسالة بحثية يعدها الطالب بتوجيه المشرف الاكاديمي'}, '82': {'score': 13.594265, 'text': 'استخدام معايير للمفاضلة بين المتقدمين'}, '12': {'score': 17.079096, 'text': '12 و 15 وحدة دراسية'}, '108': {'score': 16.67658, 'text': 'كطالب نظامي بدوام كامل وان لا يقل معدله المتوسط عن 3 . 5 نقاط وقد اجتاز 15 وحدة'}, '86': {'score': 16.363365, 'text': 'خلال فترة السحب والإضافة ولا يمكن استردادها بعد ذلك'}, '160': {'score': 15.602457, 'text': 'يرفع الى لجنة امتحان الرسالة'}, '169': {'score': 14.129444, 'text': '93 دينار كويتي'}, '84': {'score': 14.23391, 'text': 'ويلزم الطالب برد كل ما صرفه في هذه الفترة التالية'}, '103': {'score': 13.219112, 'text': 'المشرف'}, '201': {'score': 14.149753, 'text': 'تقديم طلبات توزيع النسخ المجلدة وايصال تسليم العهد وطلب صرف بدل طباعة وتجليد وتغليف الأطروحات أو الرسائل'}, '79': {'score': 14.027962, 'text': 'لجنة البرنامج'}, '9': {'score': 15.017656, 'text': 'يجوز تمديدها لفصل دراسي واحد'}, '190': {'score': 12.384478, 'text': 'منطقة الخالدية'}, '191': {'score': 15.856033, 'text': 'كامل او جزئي'}, '172': {'score': 17.347517, 'text': 'إعادة الاختبار في الفصل الدراسي التالي'}, '67': {'score': 16.66423, 'text': 'اجتياز المقررات الإضافية بمعدل متوسط لا يقل عن 3'}, '5': {'score': 15.370353, 'text': 'بمعدل متوسط لا يقل عن 3 نقاط'}, '207': {'score': 15.736846, 'text': 'لا تصرف المكافأة في أي فترة تليها'}, '216': {'score': 16.470367, 'text': 'دون مقابل او رسوم'}, '48': {'score': 17.81197, 'text': 'طبيعة المشكلة ومنهجية البحث والمراجع الاساسية والامكانات اللازمة لتنفيذه'}, '29': {'score': 15.941742, 'text': 'اجتذاب الطلبة الفائقين من داخل وخارج الكويت'}, '6': {'score': 16.615631, 'text': 'قبل اجتياز 18 وحدة دراسية'}, '34': {'score': 15.674336, 'text': 'يقوم بتقديم تقريرا مكتوبا'}, '58': {'score': 15.966448, 'text': 'في جامعة الكويت'}, '109': {'score': 15.219747, 'text': 'يقوم بتقديم تقريرا مكتوبا'}, '14': {'score': 17.4906, 'text': 'المشرف والمشرف المساعد ورئيس اللجنة والممتحنين'}, '206': {'score': 15.003122, 'text': 'سنتين'}, '167': {'score': 13.931683, 'text': 'معدل عام 2 . 50 نقاط من أصل 4 . 00 نقاط'}, '11': {'score': 14.094189, 'text': 'عن طريق تقديم الاقتراح الى لجنة البرنامج'}, '2': {'score': 15.657912, 'text': 'تصرف له المكافأة بالاضافة الى الاقامة في ضيافة الجامعة وتذاكر سفر بدرجة الواحة'}, '218': {'score': -0.98072696, 'text': 'بمستوى 500 او اعلى'}, '171': {'score': 16.117086, 'text': 'مستوى 500 فاعلى'}, '180': {'score': 18.211872, 'text': '6 ساعات أسبوعيا'}, '195': {'score': 15.821318, 'text': '65 دينار كويتي'}, '75': {'score': 16.447329, 'text': 'الأساتذة والأساتذة المشاركون وأحيانا الأساتذة المساعدون أو الأساتذة المتقاعدون'}, '214': {'score': 13.827139, 'text': 'أستاذ'}, '111': {'score': 14.666538, 'text': '100 دينار كويتي'}, '20': {'score': 8.930338, 'text': 'يمكن التقديم على برنامج مختلف عن التخصص'}, '72': {'score': 14.417053, 'text': 'يجوز تمديدها لفصل دراسي واحد'}, '194': {'score': 16.737831, 'text': 'تقدير 2 . 67 على الاقل ولم يمر على اجتيازها اكثر من سنتين'}, '73': {'score': 16.35173, 'text': 'كطالب نظامي بدوام كامل وان لا يقل معدله المتوسط عن 3 . 5 نقاط وقد اجتاز 15 وحدة'}, '38': {'score': 13.350895, 'text': 'يعلن عنه في وسائل الاعلام'}, '120': {'score': 17.18871, 'text': '30 دينار كويتي'}, '143': {'score': 13.271899, 'text': 'يعلن عنه في وسائل الاعلام'}, '70': {'score': 16.215267, 'text': 'بموافقة لجنة البرنامج'}, '128': {'score': 16.147255, 'text': 'لا تقل عن أستاذ مساعد'}, '78': {'score': 17.762468, 'text': 'عميد كلية الدراسات العليا'}}\n"
          ]
        }
      ]
    },
    {
      "cell_type": "code",
      "source": [
        "print(script_preds)"
      ],
      "metadata": {
        "colab": {
          "base_uri": "https://localhost:8080/"
        },
        "id": "cpjdJ3759Wjt",
        "outputId": "79785254-69e5-4aaa-ea3f-6ea0cc7abf9d"
      },
      "execution_count": null,
      "outputs": [
        {
          "output_type": "stream",
          "name": "stdout",
          "text": [
            "{'18': 'رسالة بحثية يعدها الطالب بتوجيه المشرف الاكاديمي', '125': 'ويتم اختياره من قبل عميد كلية الدراسات العليا', '182': 'سنتان ويجوز تمديدها', '153': 'خلال مشرفه الاكاديمي', '13': 'عن طريق عميد كلية الدراسات العليا', '198': 'اجتياز جميع متطلبات البرنامج بمعدل متوسط لا يقل عن 3', '110': 'الفصل الاول للعام الجامعي التالي لاعتمادها', '145': 'المشرف والمشرف المساعد ورئيس اللجنة والممتحنين', '88': 'ناجح أو راسب', '40': '500 دينار كويتي', '53': 'يقوم بتقديم تقريرا مكتوبا', '212': 'عن طريق تقديم الاقتراح الى لجنة البرنامج', '51': 'سنتين', '8': 'متطلبات البرنامج نفسه ومن الممكن اضافة متطلبات اضافية', '142': 'يقدم الطالب مشروع تفصيلي لبحث الدكتوراة', '147': 'سنة دراسية واحدة', '168': 'لاحتسابه وقت التحكيم', '159': 'يحددها مجلس الجامعة', '3': 'ولا يمكن التقديم على أكثر من برنامج مختلف في نفس الوقت', '10': 'ولا تحتسب فترات انقطاع الدراسة', '28': 'لاحتسابه وقت التحكيم', '121': '6 وحدات دراسية بحد اقصى', '176': '3 سنوات', '210': 'مهمة واحدة فقط خلال مدة دراسته', '175': '8 و 12 وحدة دراسية في كل فصل دراسي', '54': 'يقوم بتقديم تقريرا مكتوبا', '119': 'يرفع الى لجنة امتحان الرسالة', '89': 'يقوم بتقديم تقريرا مكتوبا', '114': '3 سنوات', '133': '93 دينار كويتي', '152': 'سنتان قابلة للتجديد ويجوز بقاء ثلث الأعضاء القدامى عند إعادة التشكيل', '45': 'اسم المنطقة التي يتواجد بها مكتب البريد', '24': 'يفصل اكاديميا', '178': 'مهمة واحدة فقط خلال مدة دراسته', '31': 'عن طريق الموقع الالكتروني لكلية الدراسات العليا', '113': 'قبل بداية الفصل الدراسي الثاني', '71': 'الخبرة العملية في المجال والابحاث المنشورة او أوراق المشاركة في المؤتمرات', '126': 'المشرف والمشرف المساعد ورئيس اللجنة والممتحنين', '158': 'حسب التواريخ المذكورة في التقويم الدراسي', '63': 'شريطة عدم ارتباطهم بعقد عمل مع جامعة أخرى', '163': 'ويتم اختياره من قبل عميد كلية الدراسات العليا', '203': '5 سنوات', '52': 'تقرير مسبب من المشرف واعتماد لجنة البرنامج وموافقة عميد الكلية', '189': 'الطالب مسجلا بدوام كامل ولا تقيم اسرته في الكويت', '41': 'يفصل أكاديميا', '44': '93 دينار كويتي', '94': 'حسب التواريخ المذكورة في التقويم الدراسي', '155': '3 سنوات', '139': 'جميع المقررات التي يلزمه دراستها بالاضافة الى اي مقررات اضافية', '47': 'لاستكمال متطلبات درجة الماجستير هو إثنا عشر شهرا', '98': 'نعم يجوز الغاء المنحة الدراسية', '200': 'تقدير مرضي S أو غير مرضي U', '33': 'بالاضافة الى شروط اخرى بالإعلان', '138': '30 دينار كويتي', '92': 'المشرف والمشرف المساعد ورئيس اللجنة والممتحنين', '213': 'سنتان', '85': 'بتحويله لطالب مقيد', '170': 'ثلاثة أعضاء على الأقل', '156': 'جامعة الشدادية', '93': 'بالاضافة الى شروط اخرى بالإعلان', '36': 'يجوز تمديدها لفصل دراسي واحد', '106': 'أستاذ', '49': 'يجوز تمديدها لفصل دراسي واحد', '76': 'عميد كلية الدراسات العليا', '215': 'ولا يشترط اجتياز الامتحان الشامل او اعداد أطروحة', '151': 'سنتين', '181': 'قبل نهاية الفصل الدراسي الثالث', '144': 'يقوم بتقديم تقريرا مكتوبا', '135': 'المشرف', '208': '10 دينار كويتي للوحدة الدراسية الواحدة بالإضافة الى 40 دينار لرسوم التسجيل', '87': 'أستاذ', '32': 'ناجح P او راسب F', '57': 'لاحتسابه وقت التحكيم', '196': 'يفصل اكاديميا', '222': 'أستاذ', '141': 'يجوز تمديدها لفصل دراسي واحد', '4': '65 دينار كويتي', '69': 'نعم يجوز ان يكون امتحان رسالة الدكتوراة علنيا', '129': 'رسم تسجيل ورسم دراسة ورسم بحث ورسم إعادة قيد', '95': 'نعم يجوز الغاء المنحة الدراسية', '183': 'طلب مشرف على الرسالة', '66': '6 ساعات أسبوعيا', '100': 'سنتان قابلة للتجديد ويجوز بقاء ثلث الأعضاء القدامى عند إعادة التشكيل', '22': 'سنتان', '134': 'مسجلا بدوام كامل وليس له مصدر دخل اخر', '112': 'عقب او قرب انتهاء اجتياز جميع المقررات المحددة', '204': 'يجوز رد رسوم الدراسه قبل انتهاء فترة السحب والإضافة', '205': 'قبل بداية الفصل الدراسي الثاني', '77': 'نعم يجوز ان يكون امتحان رسالة الدكتوراة علنيا', '91': 'لا تصرف المكافأة في أي فترة تليها', '140': 'قبول نظامي فقط', '80': 'يعلن عنه في وسائل الاعلام', '197': 'عن طريق تقديم الاقتراح الى لجنة البرنامج', '1': 'كامل او جزئي', '123': 'تقديمه تقريرا سنويا عن سير برنامج الدراسات العليا وذلك قبل نهاية شهر يوليو', '221': 'سنتين', '211': 'يقوم بتقديم تقريرا مكتوبا', '149': 'ويجوز تمديدها لسنتين اضافتين', '162': 'عميد كلية الدراسات العليا', '184': 'تقدير 2 . 67 على الاقل ولم يمر على اجتيازها اكثر من سنتين', '116': 'في جميع الفصول الدراسية التالية لاجتيازه الامتحان التأهيلي', '225': 'اجتياز جميع متطلبات البرنامج بمعدل متوسط لا يقل عن 3', '50': '3 اعضاء فقط', '42': 'هو صفر نقطة', '220': 'ويجوز تمديدها لسنتين اضافتين', '132': 'نعم يجوز الغاء المنحة الدراسية', '46': 'أستاذ', '97': 'سنة دراسية واحدة', '96': 'نعم يشترط حضور ممتحن امتحان رسالة الدكتوراة', '64': 'الشهادة الاصلية ، البطاقة المدنية ، صور شخصية ، شهادة الخبرة الوظيفية', '17': '36 شهرا على الأكثر', '131': 'اختبار يقيس مستوى الطالب في الرياضيات الأساسية', '193': 'لاحتسابه وقت التحكيم', '107': 'مهمة واحدة فقط خلال مدة دراسته', '27': 'يمنح فرصة أخرى', '174': 'ناجح P او راسب F', '21': 'في حال عدم توافر التخصص بين الأساتذة والأساتذة المشاركين', '199': 'يجوز تمديدها لفصل دراسي واحد', '83': 'نعم يجوز ان يكون امتحان رسالة الدكتوراة علنيا', '146': 'يقوم بتقديم تقريرا مكتوبا', '102': 'يفصل أكاديميا', '62': 'نعم يجوز الغاء المنحة الدراسية', '68': 'يقوم بتقديم تقريرا مكتوبا', '16': 'قبول نظامي فقط', '105': 'سنة واحدة قابلة للتجديد', '104': 'حسب التواريخ المذكورة في التقويم الدراسي', '150': 'القانون العام والقانون الخاص والاداب والعلوم والتربية والشريعة الإسلامية وإدارة الاعمال والصحة العامة', '217': 'المشرف والمشرف المساعد ورئيس اللجنة والممتحنين', '209': 'كامل او جزئي', '55': 'هو 2 . 67', '161': 'يجوز تمديدها لفصل دراسي واحد', '166': 'في ضوء دراسة حالتهم الاجتماعية', '60': 'يعتمد على نوع الدوام اما جزئي او كامل', '15': 'في وقت لا يتعدى نهاية الفصل الدراسي التالي لقبوله', '173': 'حسب التواريخ المذكورة في التقويم الدراسي', '0': 'نظام التحكيم الالي الجديد الخاص بالشؤون الأكاديمية', '90': 'سنة دراسية واحدة', '188': 'عميد كلية الدراسات العليا', '165': 'يفصل اكاديميا', '43': 'في ضوء دراسة حالتهم الاجتماعية', '224': 'يجوز تمديدها لفصل دراسي واحد', '99': 'لجنة البرنامج', '124': 'يمنح فرصة أخرى', '115': 'نعم يشترط حضور ممتحن امتحان رسالة الدكتوراة', '186': 'سنتين', '219': 'في جامعة الكويت', '26': 'يجوز تمديدها لفصل دراسي واحد', '137': '100 دينار كويتي', '157': 'عن طريق تقديم الاقتراح الى لجنة البرنامج', '117': 'عن طريق الموقع الالكتروني لكلية الدراسات العليا', '148': 'عن طريق تقديم الاقتراح الى لجنة البرنامج', '19': 'سنتان قابلة للتجديد ويجوز بقاء ثلث الأعضاء القدامى عند إعادة التشكيل', '30': 'اعلان معيد البعثة', '179': 'يفصل اكاديميا', '130': '4 سنوات', '25': 'يقوم بتقديم تقريرا مكتوبا', '122': 'عقب او قرب انتهاء اجتياز جميع المقررات المحددة', '7': 'موقع بوابة الدراسات العليا الجديد', '185': 'خلال مشرفه الاكاديمي', '59': 'يقدم الطالب مشروع تفصيلي لبحث الدكتوراة', '65': 'بموافقة مجلس كلية الدراسات العليا', '202': 'اذا استوفى المتقدم كافة الشروط', '61': 'عن طريق عميد كلية الدراسات العليا', '37': 'يجوز تمديدها لفصل دراسي واحد', '223': 'يقوم بتقديم تقريرا مكتوبا', '187': 'هو 2 . 67', '56': 'خلال فترة السحب والإضافة ولا يمكن استردادها بعد ذلك', '192': 'مهمة واحدة فقط خلال مدة دراسته', '74': 'سنة دراسية واحدة', '101': 'درجة الماجستير بالاضافة الى شروط اخرى', '81': '5 و 9 وحدات دراسية في كل فصل دراسي', '39': 'مهمة واحدة فقط خلال مدة دراسته', '118': 'لتفسير اي بند من بنود اللائحة في حال وجود غموض', '154': 'يجوز تمديدها لفصل دراسي واحد', '127': 'نعم يجوز الغاء المنحة الدراسية', '164': 'عدد ساعات الدراسة خلال الفصل الدراسي الواحد', '136': 'سنة دراسية واحدة', '177': 'ويجوز تمديدها لسنتين اضافتين', '35': 'عن طريق تقديم الاقتراح الى لجنة البرنامج', '23': 'رسالة بحثية يعدها الطالب بتوجيه المشرف الاكاديمي', '82': 'استخدام معايير للمفاضلة بين المتقدمين', '12': '12 و 15 وحدة دراسية', '108': 'كطالب نظامي بدوام كامل وان لا يقل معدله المتوسط عن 3 . 5 نقاط وقد اجتاز 15 وحدة', '86': 'خلال فترة السحب والإضافة ولا يمكن استردادها بعد ذلك', '160': 'يرفع الى لجنة امتحان الرسالة', '169': '93 دينار كويتي', '84': 'ويلزم الطالب برد كل ما صرفه في هذه الفترة التالية', '103': 'المشرف', '201': 'تقديم طلبات توزيع النسخ المجلدة وايصال تسليم العهد وطلب صرف بدل طباعة وتجليد وتغليف الأطروحات أو الرسائل', '79': 'لجنة البرنامج', '9': 'يجوز تمديدها لفصل دراسي واحد', '190': 'منطقة الخالدية', '191': 'كامل او جزئي', '172': 'إعادة الاختبار في الفصل الدراسي التالي', '67': 'اجتياز المقررات الإضافية بمعدل متوسط لا يقل عن 3', '5': 'بمعدل متوسط لا يقل عن 3 نقاط', '207': 'لا تصرف المكافأة في أي فترة تليها', '216': 'دون مقابل او رسوم', '48': 'طبيعة المشكلة ومنهجية البحث والمراجع الاساسية والامكانات اللازمة لتنفيذه', '29': 'اجتذاب الطلبة الفائقين من داخل وخارج الكويت', '6': 'قبل اجتياز 18 وحدة دراسية', '34': 'يقوم بتقديم تقريرا مكتوبا', '58': 'في جامعة الكويت', '109': 'يقوم بتقديم تقريرا مكتوبا', '14': 'المشرف والمشرف المساعد ورئيس اللجنة والممتحنين', '206': 'سنتين', '167': 'معدل عام 2 . 50 نقاط من أصل 4 . 00 نقاط', '11': 'عن طريق تقديم الاقتراح الى لجنة البرنامج', '2': 'تصرف له المكافأة بالاضافة الى الاقامة في ضيافة الجامعة وتذاكر سفر بدرجة الواحة', '218': 'بمستوى 500 او اعلى', '171': 'مستوى 500 فاعلى', '180': '6 ساعات أسبوعيا', '195': '65 دينار كويتي', '75': 'الأساتذة والأساتذة المشاركون وأحيانا الأساتذة المساعدون أو الأساتذة المتقاعدون', '214': 'أستاذ', '111': '100 دينار كويتي', '20': 'يمكن التقديم على برنامج مختلف عن التخصص', '72': 'يجوز تمديدها لفصل دراسي واحد', '194': 'تقدير 2 . 67 على الاقل ولم يمر على اجتيازها اكثر من سنتين', '73': 'كطالب نظامي بدوام كامل وان لا يقل معدله المتوسط عن 3 . 5 نقاط وقد اجتاز 15 وحدة', '38': 'يعلن عنه في وسائل الاعلام', '120': '30 دينار كويتي', '143': 'يعلن عنه في وسائل الاعلام', '70': 'بموافقة لجنة البرنامج', '128': 'لا تقل عن أستاذ مساعد', '78': 'عميد كلية الدراسات العليا'}\n"
          ]
        }
      ]
    },
    {
      "cell_type": "code",
      "source": [
        "def get_preds2(total_preds):\n",
        "  preds_path = os.path.join('preds2')\n",
        "  if not os.path.exists(preds_path):\n",
        "    os.mkdir(preds_path)\n",
        "  text_preds_path = os.path.join(preds_path, 'preds2.json')\n",
        "  jsonString = json.dumps(total_preds)\n",
        "  jsonFile = open(text_preds_path, \"w\")\n",
        "  jsonFile.write(jsonString)\n",
        "  jsonFile.close()\n",
        "  !python /content/Arabic-MRC/evaluatev2.py /content/cgsqa-test.json /content/preds2/preds2.json electra --out-file /content/preds2"
      ],
      "metadata": {
        "id": "ARsmW00kN8mY"
      },
      "execution_count": null,
      "outputs": []
    },
    {
      "cell_type": "code",
      "source": [
        "qa_result_dict = get_preds2(script_preds)"
      ],
      "metadata": {
        "colab": {
          "base_uri": "https://localhost:8080/"
        },
        "outputId": "277557b4-2c4a-4859-b1ab-ce637dfd4427",
        "id": "tO-J62nRN8mY"
      },
      "execution_count": null,
      "outputs": [
        {
          "output_type": "stream",
          "name": "stdout",
          "text": [
            "{\n",
            "  \"exact\": 92.47787610619469,\n",
            "  \"f1\": 96.14696509323463,\n",
            "  \"total\": 226,\n",
            "  \"HasAns_exact\": 92.47787610619469,\n",
            "  \"HasAns_f1\": 96.14696509323463,\n",
            "  \"HasAns_total\": 226\n",
            "}\n"
          ]
        }
      ]
    },
    {
      "cell_type": "code",
      "source": [
        "!huggingface-cli login"
      ],
      "metadata": {
        "colab": {
          "base_uri": "https://localhost:8080/"
        },
        "id": "_YdZB7VfpiKP",
        "outputId": "afa40297-5e37-4be5-bcec-f27c0ffc1692"
      },
      "execution_count": null,
      "outputs": [
        {
          "output_type": "stream",
          "name": "stdout",
          "text": [
            "\n",
            "    _|    _|  _|    _|    _|_|_|    _|_|_|  _|_|_|  _|      _|    _|_|_|      _|_|_|_|    _|_|      _|_|_|  _|_|_|_|\n",
            "    _|    _|  _|    _|  _|        _|          _|    _|_|    _|  _|            _|        _|    _|  _|        _|\n",
            "    _|_|_|_|  _|    _|  _|  _|_|  _|  _|_|    _|    _|  _|  _|  _|  _|_|      _|_|_|    _|_|_|_|  _|        _|_|_|\n",
            "    _|    _|  _|    _|  _|    _|  _|    _|    _|    _|    _|_|  _|    _|      _|        _|    _|  _|        _|\n",
            "    _|    _|    _|_|      _|_|_|    _|_|_|  _|_|_|  _|      _|    _|_|_|      _|        _|    _|    _|_|_|  _|_|_|_|\n",
            "    \n",
            "    To login, `huggingface_hub` requires a token generated from https://huggingface.co/settings/tokens .\n",
            "Token: \n",
            "Add token as git credential? (Y/n) n\n",
            "Token is valid (permission: write).\n",
            "Your token has been saved to /root/.cache/huggingface/token\n",
            "Login successful\n"
          ]
        }
      ]
    },
    {
      "cell_type": "code",
      "source": [
        "span_trained_model.push_to_hub(\"AraELECTRA-CGSQuAD-QA-Model1\")\n",
        "araelectra_tokenizer.push_to_hub(\"AraELECTRA-CGSQuAD-QA-Tokenizer1\")"
      ],
      "metadata": {
        "colab": {
          "base_uri": "https://localhost:8080/"
        },
        "id": "dHkEmc7cnmY1",
        "outputId": "34c15670-c315-4305-b041-11ddbe89a6c0"
      },
      "execution_count": null,
      "outputs": [
        {
          "output_type": "execute_result",
          "data": {
            "text/plain": [
              "CommitInfo(commit_url='https://huggingface.co/FatemahAlsubaiei/AraELECTRA-CGSQuAD-QA-Tokenizer1/commit/2244c0544136c9e18092646d0d29abed440d6138', commit_message='Upload tokenizer', commit_description='', oid='2244c0544136c9e18092646d0d29abed440d6138', pr_url=None, pr_revision=None, pr_num=None)"
            ]
          },
          "metadata": {},
          "execution_count": 45
        }
      ]
    }
  ]
}